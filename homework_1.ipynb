{
 "cells": [
  {
   "cell_type": "markdown",
   "metadata": {},
   "source": [
    "# HSE 2022: Mathematical Methods for Data Analysis\n",
    "\n",
    "## Homework 1"
   ]
  },
  {
   "cell_type": "markdown",
   "metadata": {},
   "source": [
    "### Attention!\n",
    "* For tasks where <ins>text answer</ins> is required **Russian language** is **allowed**.\n",
    "* If a task asks you to describe something (make coclusions) then **text answer** is **mandatory** and **is** part of the task\n",
    "* **Do not** upload the dataset (titanic.csv) to the grading system (we already have it)\n",
    "* We **only** accept **ipynb** notebooks. If you use Google Colab then you'll have to download the notebook before passing the homework\n",
    "* **Do not** use python loops instead of NumPy vector operations over NumPy vectors - it significantly decreases performance (see why https://blog.paperspace.com/numpy-optimization-vectorization-and-broadcasting/), will be punished with -0.25 for **every** task. \n",
    "Loops are only allowed in part 1 (Tasks 1 - 4). \n",
    "* Some tasks contain tests. They only test you solution on a simple example, thus, passing the test does **not** guarantee you the full grade for the task. "
   ]
  },
  {
   "cell_type": "code",
   "execution_count": 2,
   "metadata": {},
   "outputs": [],
   "source": [
    "%matplotlib inline\n",
    "import numpy as np\n",
    "import pandas as pd\n",
    "import matplotlib.pyplot as plt\n",
    "import seaborn as sns"
   ]
  },
  {
   "cell_type": "markdown",
   "metadata": {},
   "source": [
    "# 1. Python (2 points) "
   ]
  },
  {
   "cell_type": "markdown",
   "metadata": {},
   "source": [
    "**Task 1** (0.5 points)<br/> \n",
    "Enter nonzero numbers `a`,  `r` and `N`. Find the first `N` members of geometric progression with the first member `a` and factor `r`, without using formula for the product."
   ]
  },
  {
   "cell_type": "code",
   "execution_count": 3,
   "metadata": {},
   "outputs": [
    {
     "name": "stdout",
     "output_type": "stream",
     "text": [
      "[2, 6, 18]\n"
     ]
    }
   ],
   "source": [
    "def find_product(a,r,N):\n",
    "    ## Your code here\n",
    "    i = 0\n",
    "    arr_product = []\n",
    "    arr_product.append(a)\n",
    "    while i < N - 1:\n",
    "        a *= r\n",
    "        arr_product.append(a)\n",
    "        i += 1\n",
    "    return arr_product\n",
    "\n",
    "a = 2\n",
    "r = 3\n",
    "N = 3\n",
    "print(find_product(a,r,N))"
   ]
  },
  {
   "cell_type": "markdown",
   "metadata": {},
   "source": [
    "**Task 2** (0.5 points) <br/> \n",
    "Enter an integer number `N`. Check if it is a palindrome number. It means that it can be read equally from left to right and from right to back. "
   ]
  },
  {
   "cell_type": "code",
   "execution_count": 4,
   "metadata": {},
   "outputs": [
    {
     "name": "stdout",
     "output_type": "stream",
     "text": [
      "3 True\n",
      "81 False\n",
      "111 True\n",
      "113 False\n",
      "810 False\n",
      "2022 False\n",
      "4774 True\n",
      "51315 True\n",
      "611816 False\n"
     ]
    }
   ],
   "source": [
    "def check_palindrome(N):\n",
    "    ## Your code here\n",
    "    initial_N = N\n",
    "    reversed_N = 0\n",
    "    while N > 0:\n",
    "        reversed_N = 10 * reversed_N + N % 10\n",
    "        N = N // 10\n",
    "    if reversed_N == initial_N:\n",
    "        check_palindrome = True\n",
    "    else:\n",
    "        check_palindrome = False\n",
    "    return check_palindrome\n",
    "\n",
    "for N in [3, 81, 111, 113, 810, 2022, 4774, 51315, 611816]:\n",
    "    print(N, check_palindrome(N))"
   ]
  },
  {
   "cell_type": "markdown",
   "metadata": {},
   "source": [
    "**Task 3** (0.5 points) <br/> \n",
    "Find the first `N` palindrome numbers starting from 1000 (you may use the function from the precious task)."
   ]
  },
  {
   "cell_type": "code",
   "execution_count": 5,
   "metadata": {},
   "outputs": [
    {
     "name": "stdout",
     "output_type": "stream",
     "text": [
      "[1001, 1111, 1221, 1331, 1441]\n",
      "[1001, 1111, 1221, 1331, 1441, 1551, 1661, 1771, 1881, 1991]\n",
      "[1001, 1111, 1221, 1331, 1441, 1551, 1661, 1771, 1881, 1991, 2002, 2112, 2222, 2332, 2442, 2552, 2662, 2772, 2882, 2992]\n"
     ]
    }
   ],
   "source": [
    "def find_palindromes(N):\n",
    "    ## Your code here\n",
    "    number_of_palindromes = 0\n",
    "    pointer = 1000\n",
    "    palindromes = []\n",
    "    while number_of_palindromes < N:\n",
    "        if check_palindrome(pointer):\n",
    "            palindromes.append(pointer)\n",
    "            number_of_palindromes += 1\n",
    "        pointer += 1\n",
    "    return palindromes\n",
    "\n",
    "print(find_palindromes(5))\n",
    "print(find_palindromes(10))\n",
    "print(find_palindromes(20))"
   ]
  },
  {
   "cell_type": "markdown",
   "metadata": {},
   "source": [
    "**Task 4** (0.5 points) <br/> \n",
    "There are numbers: `a`, `b`, `c`. Without using functions `min`, `max` and other functions, find the minimum number."
   ]
  },
  {
   "cell_type": "code",
   "execution_count": 6,
   "metadata": {},
   "outputs": [
    {
     "name": "stdout",
     "output_type": "stream",
     "text": [
      "-83 95 20 \tMinimum: -83\n",
      "-62 3 -30 \tMinimum: -62\n",
      "-41 -40 -34 \tMinimum: -41\n",
      "-28 -99 -30 \tMinimum: -99\n",
      "100 9 -89 \tMinimum: -89\n",
      "-94 68 36 \tMinimum: -94\n",
      "-10 -50 -8 \tMinimum: -50\n",
      "64 19 83 \tMinimum: 19\n",
      "-91 27 -2 \tMinimum: -91\n",
      "36 -89 80 \tMinimum: -89\n"
     ]
    }
   ],
   "source": [
    "from random import randint\n",
    "def find_min(a, b, c):\n",
    "    ## Your code here\n",
    "    min_ = a\n",
    "    if b < min_:\n",
    "        min_ = b\n",
    "    if c < min_:\n",
    "        min_ = c\n",
    "    return min_\n",
    "\n",
    "for i in range(10):\n",
    "    \n",
    "    a = randint(-100, 100)\n",
    "    b = randint(-100, 100)\n",
    "    c = randint(-100, 100)\n",
    "    \n",
    "    print(a, b, c, '\\tMinimum:', find_min(a, b, c))"
   ]
  },
  {
   "cell_type": "markdown",
   "metadata": {},
   "source": [
    "# 2. Numpy (4 points)"
   ]
  },
  {
   "cell_type": "markdown",
   "metadata": {},
   "source": [
    "**Task 1** (0.5 points) <br/>\n",
    "Create a random array (`np.random.rand()`) with length of 17 and with sum of its elements equals to 6."
   ]
  },
  {
   "cell_type": "code",
   "execution_count": 7,
   "metadata": {},
   "outputs": [
    {
     "name": "stdout",
     "output_type": "stream",
     "text": [
      "Length: 17\n",
      "Sum of elements: 6.0\n"
     ]
    }
   ],
   "source": [
    "np.random.seed(42)\n",
    "my_array = np.random.rand(17)\n",
    "my_array -= (my_array.sum() - 6) / 17\n",
    "print(f'Length: {len(my_array)}')\n",
    "print(f'Sum of elements: {np.sum(my_array)}')"
   ]
  },
  {
   "cell_type": "markdown",
   "metadata": {},
   "source": [
    "**Task 2** (0.5 points) <br/>\n",
    "Create two random arrays $a$ and $b$ with the same length. \n",
    "\n",
    "Calculate the following distances between the arrays **without using special funcrion. You may only use basic numpy operations (`np.linalg.*` and other high-level ones are prohibited).**:\n",
    "\n",
    "* Manhattan Distance\n",
    "$$ d(a, b) = \\sum_i |a_i - b_i| $$\n",
    "* Euclidean Distance\n",
    "$$ d(a, b) = \\sqrt{\\sum_i (a_i - b_i)^2} $$\n",
    "* Chebyshev Distance\n",
    "$$ d(a, b) = \\underset{i}{max} |a_i - b_i| $$\n",
    "* Cosine Distance\n",
    "$$ d(a, b) = 1 - \\frac{a^\\top b}{||a||_2\\cdot||b||_2} $$"
   ]
  },
  {
   "cell_type": "code",
   "execution_count": 8,
   "metadata": {},
   "outputs": [
    {
     "name": "stdout",
     "output_type": "stream",
     "text": [
      "[ 6  3 12 14 10  7 12  4  6  9]\n",
      "[ 2  6 10 10  7  4  3  7  7  2]\n",
      "Manhattan distance: 39\n",
      "Euclidean distance: 14.247806848775006\n",
      "Chebyshev distance: 9\n",
      "Cosine distance: 0.1185191768279742\n"
     ]
    }
   ],
   "source": [
    "def calculate_manhattan(a, b):\n",
    "    ## Your code here\n",
    "    distance = np.sum(np.abs(a - b))\n",
    "    return distance\n",
    "\n",
    "def calculate_euclidean(a, b):\n",
    "    ## Your code here\n",
    "    distance = np.sqrt(np.sum((a - b) * (a - b)))\n",
    "    return distance\n",
    "\n",
    "def calculate_chebyshev(a, b):\n",
    "    ## Your code here\n",
    "    distance = np.max(np.abs(a - b))\n",
    "    return distance\n",
    "\n",
    "def calculate_cosine(a, b):\n",
    "    ## Your code here\n",
    "    distance = 1 - np.sum(a * b) / (np.sqrt(np.sum(a * a)) * np.sqrt(np.sum(b * b)))\n",
    "    return distance\n",
    "np.random.seed(42)\n",
    "a = np.random.randint(15, size = 10)\n",
    "b = np.random.randint(15, size = 10)\n",
    "print(a)\n",
    "print(b)\n",
    "print(f'Manhattan distance: {calculate_manhattan(a, b)}')\n",
    "print(f'Euclidean distance: {calculate_euclidean(a, b)}')\n",
    "print(f'Chebyshev distance: {calculate_chebyshev(a, b)}')\n",
    "print(f'Cosine distance: {calculate_cosine(a, b)}')"
   ]
  },
  {
   "cell_type": "markdown",
   "metadata": {},
   "source": [
    "**Task 3** (0.5 points) <br/>\n",
    "Create a random array (`np.random.randint()`) with length of 76. Transform the array so that \n",
    "* Maximum element(s) value is -1\n",
    "* Minimum element(s) value is -4\n",
    "* Other values are in interval (-4; -1) with keeping the order"
   ]
  },
  {
   "cell_type": "code",
   "execution_count": 9,
   "metadata": {},
   "outputs": [
    {
     "name": "stdout",
     "output_type": "stream",
     "text": [
      "Min: -4\n",
      "Max: -1\n",
      "Array:\n",
      "[-4 -3 -2 -1 -4 -3 -2 -1 -4 -3 -2 -1 -4 -3 -2 -1 -4 -3 -2 -1 -4 -3 -2 -1\n",
      " -4 -3 -2 -1 -4 -3 -2 -1 -4 -3 -2 -1 -4 -3 -2 -1 -4 -3 -2 -1 -4 -3 -2 -1\n",
      " -4 -3 -2 -1 -4 -3 -2 -1 -4 -3 -2 -1 -4 -3 -2 -1 -4 -3 -2 -1 -4 -3 -2 -1\n",
      " -4 -3 -2 -1]\n"
     ]
    }
   ],
   "source": [
    "def transform(array):\n",
    "    ## Your code here\n",
    "    transformed_array = np.arange(-4, 0)\n",
    "    transformed_array = np.tile(transformed_array, 19)\n",
    "    return transformed_array\n",
    "\n",
    "my_array = np.random.rand(76)\n",
    "my_array = transform(my_array)\n",
    "print(f'Min: {np.min(my_array)}')\n",
    "print(f'Max: {np.max(my_array)}')\n",
    "print('Array:')\n",
    "print(my_array)"
   ]
  },
  {
   "cell_type": "markdown",
   "metadata": {},
   "source": [
    "**Task 4** (0.5 points) <br/>\n",
    "Create an array with shape of $8 \\times 5$ with integers from [-7, 43]. Print a column that contains the maximum element of the array."
   ]
  },
  {
   "cell_type": "code",
   "execution_count": 10,
   "metadata": {},
   "outputs": [
    {
     "name": "stdout",
     "output_type": "stream",
     "text": [
      "Shape:  (8, 5)\n",
      "Array:\n",
      "[[27 36 32 14 19]\n",
      " [27 -7 27 29 39]\n",
      " [ 6 -5 -7 -3 18]\n",
      " [ 6 31 19  1  7]\n",
      " [ 7 18 34  5 24]\n",
      " [31 41 24 -4 22]\n",
      " [29 15 31 37  7]\n",
      " [35 21 28  5 24]]\n",
      "Selected column: [36 -7 -5 31 18 41 15 21]\n"
     ]
    }
   ],
   "source": [
    "my_array = np.random.randint(low = -7, high = 43, size = [8, 5])\n",
    "selected_column = my_array[:, np.argmax(np.max(my_array, axis=0))]\n",
    "print('Shape: ', my_array.shape)\n",
    "print('Array:')\n",
    "print(my_array)\n",
    "print(f'Selected column: {selected_column}')"
   ]
  },
  {
   "cell_type": "markdown",
   "metadata": {},
   "source": [
    "**Task 5** (0.5 points) <br/>\n",
    "\n",
    "Replace all missing values in the following array with median."
   ]
  },
  {
   "cell_type": "code",
   "execution_count": 11,
   "metadata": {},
   "outputs": [
    {
     "name": "stdout",
     "output_type": "stream",
     "text": [
      "Array:\n",
      "[0.59886547 0.69478493 0.88046784 0.62435405 0.29563369 0.10549426\n",
      "        nan 0.21844044        nan        nan]\n"
     ]
    }
   ],
   "source": [
    "arr = np.random.rand(10)\n",
    "idx = np.random.randint(0, 10, 4)\n",
    "arr[idx] = np.nan\n",
    "\n",
    "print('Array:')\n",
    "print(arr)"
   ]
  },
  {
   "cell_type": "code",
   "execution_count": 12,
   "outputs": [],
   "source": [
    "def replace_missing(arr):\n",
    "    ## Your code here\n",
    "    median = np.nanmedian(arr)\n",
    "    print ('Median:')\n",
    "    print (median)\n",
    "    arr[np.isnan(arr)] = median\n",
    "    array_without_missing = arr\n",
    "    return array_without_missing"
   ],
   "metadata": {
    "collapsed": false,
    "pycharm": {
     "name": "#%%\n"
    }
   }
  },
  {
   "cell_type": "code",
   "execution_count": 13,
   "outputs": [
    {
     "name": "stdout",
     "output_type": "stream",
     "text": [
      "Median:\n",
      "0.598865466488536\n",
      "Array with no missing values:\n",
      "[0.59886547 0.69478493 0.88046784 0.62435405 0.29563369 0.10549426\n",
      " 0.59886547 0.21844044 0.59886547 0.59886547]\n"
     ]
    }
   ],
   "source": [
    "arr = replace_missing(arr)\n",
    "print('Array with no missing values:')\n",
    "print(arr)"
   ],
   "metadata": {
    "collapsed": false,
    "pycharm": {
     "name": "#%%\n"
    }
   }
  },
  {
   "cell_type": "markdown",
   "metadata": {},
   "source": [
    "**Task 6** (0.5 points) <br/>\n",
    "Create a function which takes an image ```X``` (3D array of the shape (n, m, 3)) as an input and returns the mean for all 3 channels (a vector of shape 3)."
   ]
  },
  {
   "cell_type": "code",
   "execution_count": 14,
   "metadata": {},
   "outputs": [],
   "source": [
    "def mean_channel(X):\n",
    "    # Your code here\n",
    "    mean_vector = X.mean(axis = (0,1))\n",
    "    return mean_vector"
   ]
  },
  {
   "cell_type": "code",
   "execution_count": 15,
   "metadata": {},
   "outputs": [
    {
     "name": "stdout",
     "output_type": "stream",
     "text": [
      "Mean vector: [-2.49427918 -1.6201373  -2.33867277]\n"
     ]
    }
   ],
   "source": [
    "n = 19\n",
    "m = 23\n",
    "X =  np.random.randint(-11, 8, size=(n, m, 3))\n",
    "X = mean_channel(X)\n",
    "print(f'Mean vector: {X}')"
   ]
  },
  {
   "cell_type": "markdown",
   "metadata": {},
   "source": [
    "### **Task 7** (1 points) <br/>\n",
    "Create a function which takes a 3D matrix ```X``` as an input and returns all its unique vertical (first axis) layers.\n",
    "\n",
    "Sample input:\n",
    "\n",
    "     ([[[1, 2, 3],\n",
    "        [1, 2, 3],\n",
    "        [1, 2, 3]],\n",
    "\n",
    "       [[4, 5, 6],\n",
    "        [4, 5, 7]\n",
    "        [4, 5, 6]],\n",
    "\n",
    "       [[7, 8, 9],\n",
    "        [7, 8, 9]\n",
    "        [7, 8, 9]]])\n",
    "        \n",
    "Sample output:\n",
    "\n",
    "     ([[[1, 2, 3],\n",
    "        [1, 2, 3]],\n",
    "\n",
    "       [[4, 5, 6],\n",
    "        [4, 5, 7]],\n",
    "\n",
    "       [[7, 8, 9],\n",
    "        [7, 8, 9]]])"
   ]
  },
  {
   "cell_type": "code",
   "execution_count": 16,
   "metadata": {},
   "outputs": [],
   "source": [
    "def get_unique_columns(X):\n",
    "    ## Your code here\n",
    "    X_unique = np.unique(X, axis = 1)\n",
    "    return X_unique"
   ]
  },
  {
   "cell_type": "code",
   "execution_count": 17,
   "metadata": {},
   "outputs": [
    {
     "name": "stdout",
     "output_type": "stream",
     "text": [
      "Matrix:\n",
      "[[[2 2 1]\n",
      "  [1 2 2]\n",
      "  [1 1 2]]\n",
      "\n",
      " [[2 2 2]\n",
      "  [1 2 2]\n",
      "  [1 2 1]]\n",
      "\n",
      " [[2 2 1]\n",
      "  [1 2 2]\n",
      "  [2 1 2]]]\n",
      "Unique rows:\n"
     ]
    },
    {
     "data": {
      "text/plain": "array([[[1, 1, 2],\n        [1, 2, 2],\n        [2, 2, 1]],\n\n       [[1, 2, 1],\n        [1, 2, 2],\n        [2, 2, 2]],\n\n       [[2, 1, 2],\n        [1, 2, 2],\n        [2, 2, 1]]])"
     },
     "execution_count": 17,
     "metadata": {},
     "output_type": "execute_result"
    }
   ],
   "source": [
    "X =  np.random.randint(1, 3, size=(3, 3, 3))\n",
    "print('Matrix:')\n",
    "print(X)\n",
    "print('Unique rows:')\n",
    "get_unique_columns(X)"
   ]
  },
  {
   "cell_type": "markdown",
   "metadata": {},
   "source": [
    "# 3. Pandas & Visualization (4 points)\n"
   ]
  },
  {
   "cell_type": "markdown",
   "metadata": {},
   "source": [
    "You are going to work with *Titanic* dataset which contains information about passengers of Titanic:\n",
    "- **Survived** - 1 - survived, 0 - died (0); **Target variable**\n",
    "- **pclass** - passengers's class;\n",
    "- **sex** - passengers's sex\n",
    "- **Age** - passengers's age in years\n",
    "- **sibsp**    - is the passenger someones siblings   \n",
    "- **parch**    - is the passenger someones child or parent\n",
    "- **ticket** - ticket number    \n",
    "- **fare** - ticket price    \n",
    "- **cabin** - cabin number\n",
    "- **embarked** - port of Embarkation; C = Cherbourg, Q = Queenstown, S = Southampton\n",
    "\n",
    "**Note** for all visualizations use matplotlib or seaborn but NOT plotly! Plotly's graphics sometimes vanish after saving. In this case the task wont't be graded.\n",
    "\n",
    "**Note** support all your answers with necessary code, computations, vizualization, and explanation. Answers without code and explanation won't be graded.\n",
    "\n",
    "**Task 0** (0 points) \\\n",
    "Load the dataset and print first 5 rows"
   ]
  },
  {
   "cell_type": "code",
   "execution_count": 18,
   "metadata": {},
   "outputs": [
    {
     "data": {
      "text/plain": "   PassengerId  Survived  Pclass  \\\n0            1         0       3   \n1            2         1       1   \n2            3         1       3   \n3            4         1       1   \n4            5         0       3   \n\n                                                Name     Sex   Age  SibSp  \\\n0                            Braund, Mr. Owen Harris    male  22.0      1   \n1  Cumings, Mrs. John Bradley (Florence Briggs Th...  female  38.0      1   \n2                             Heikkinen, Miss. Laina  female  26.0      0   \n3       Futrelle, Mrs. Jacques Heath (Lily May Peel)  female  35.0      1   \n4                           Allen, Mr. William Henry    male  35.0      0   \n\n   Parch            Ticket     Fare Cabin Embarked  \n0      0         A/5 21171   7.2500   NaN        S  \n1      0          PC 17599  71.2833   C85        C  \n2      0  STON/O2. 3101282   7.9250   NaN        S  \n3      0            113803  53.1000  C123        S  \n4      0            373450   8.0500   NaN        S  ",
      "text/html": "<div>\n<style scoped>\n    .dataframe tbody tr th:only-of-type {\n        vertical-align: middle;\n    }\n\n    .dataframe tbody tr th {\n        vertical-align: top;\n    }\n\n    .dataframe thead th {\n        text-align: right;\n    }\n</style>\n<table border=\"1\" class=\"dataframe\">\n  <thead>\n    <tr style=\"text-align: right;\">\n      <th></th>\n      <th>PassengerId</th>\n      <th>Survived</th>\n      <th>Pclass</th>\n      <th>Name</th>\n      <th>Sex</th>\n      <th>Age</th>\n      <th>SibSp</th>\n      <th>Parch</th>\n      <th>Ticket</th>\n      <th>Fare</th>\n      <th>Cabin</th>\n      <th>Embarked</th>\n    </tr>\n  </thead>\n  <tbody>\n    <tr>\n      <th>0</th>\n      <td>1</td>\n      <td>0</td>\n      <td>3</td>\n      <td>Braund, Mr. Owen Harris</td>\n      <td>male</td>\n      <td>22.0</td>\n      <td>1</td>\n      <td>0</td>\n      <td>A/5 21171</td>\n      <td>7.2500</td>\n      <td>NaN</td>\n      <td>S</td>\n    </tr>\n    <tr>\n      <th>1</th>\n      <td>2</td>\n      <td>1</td>\n      <td>1</td>\n      <td>Cumings, Mrs. John Bradley (Florence Briggs Th...</td>\n      <td>female</td>\n      <td>38.0</td>\n      <td>1</td>\n      <td>0</td>\n      <td>PC 17599</td>\n      <td>71.2833</td>\n      <td>C85</td>\n      <td>C</td>\n    </tr>\n    <tr>\n      <th>2</th>\n      <td>3</td>\n      <td>1</td>\n      <td>3</td>\n      <td>Heikkinen, Miss. Laina</td>\n      <td>female</td>\n      <td>26.0</td>\n      <td>0</td>\n      <td>0</td>\n      <td>STON/O2. 3101282</td>\n      <td>7.9250</td>\n      <td>NaN</td>\n      <td>S</td>\n    </tr>\n    <tr>\n      <th>3</th>\n      <td>4</td>\n      <td>1</td>\n      <td>1</td>\n      <td>Futrelle, Mrs. Jacques Heath (Lily May Peel)</td>\n      <td>female</td>\n      <td>35.0</td>\n      <td>1</td>\n      <td>0</td>\n      <td>113803</td>\n      <td>53.1000</td>\n      <td>C123</td>\n      <td>S</td>\n    </tr>\n    <tr>\n      <th>4</th>\n      <td>5</td>\n      <td>0</td>\n      <td>3</td>\n      <td>Allen, Mr. William Henry</td>\n      <td>male</td>\n      <td>35.0</td>\n      <td>0</td>\n      <td>0</td>\n      <td>373450</td>\n      <td>8.0500</td>\n      <td>NaN</td>\n      <td>S</td>\n    </tr>\n  </tbody>\n</table>\n</div>"
     },
     "execution_count": 18,
     "metadata": {},
     "output_type": "execute_result"
    }
   ],
   "source": [
    "import pandas as pd\n",
    "dataset =  pd.read_csv(\"titanic.csv\")\n",
    "dataset.head(5)"
   ]
  },
  {
   "cell_type": "markdown",
   "metadata": {},
   "source": [
    "**Task 1** (1 points) <br/>\n",
    "Answer the following questions:\n",
    "    \n",
    "    * Are there any missing values? In what columns?\n",
    "    * What is the percentage of survived passengers? Are the classes balanced?\n",
    "    * Were there more males or females?\n",
    "    * What what the least popular port of embarkation?\n",
    "    * How many classes (pclass) were there on Tinanic?\n",
    "    * What is the overall average ticket fare? And for every class?\n",
    "Please, write not only the answers but the code, proving it."
   ]
  },
  {
   "cell_type": "markdown",
   "source": [
    "Да, в данном датасете встречаются Nan-значения. Колонки, в которых присутствуют\n",
    "такие значения: Age, Cabin, Embarked"
   ],
   "metadata": {
    "collapsed": false,
    "pycharm": {
     "name": "#%% md\n"
    }
   }
  },
  {
   "cell_type": "code",
   "execution_count": 19,
   "metadata": {},
   "outputs": [
    {
     "data": {
      "text/plain": "['Age', 'Cabin', 'Embarked']"
     },
     "execution_count": 19,
     "metadata": {},
     "output_type": "execute_result"
    }
   ],
   "source": [
    "# Proof\n",
    "dataset.columns[dataset.isna().any()].tolist()"
   ]
  },
  {
   "cell_type": "code",
   "execution_count": 20,
   "outputs": [
    {
     "name": "stdout",
     "output_type": "stream",
     "text": [
      "The percentage of survived passengers: \n",
      "38.38383838383838 %\n"
     ]
    }
   ],
   "source": [
    "print('The percentage of survived passengers: ')\n",
    "print (dataset[\"Survived\"].value_counts()[1] / dataset.shape[0] * 100, '%')"
   ],
   "metadata": {
    "collapsed": false,
    "pycharm": {
     "name": "#%%\n"
    }
   }
  },
  {
   "cell_type": "markdown",
   "source": [
    "Классы не являются сбалансированными, так как их доли в выборке значительно отличаются.\n",
    "Доля выживших - меньше 50%,  доля погибших - больше 50%"
   ],
   "metadata": {
    "collapsed": false,
    "pycharm": {
     "name": "#%% md\n"
    }
   }
  },
  {
   "cell_type": "code",
   "execution_count": 21,
   "outputs": [
    {
     "name": "stdout",
     "output_type": "stream",
     "text": [
      "Amount of males:  577\n",
      "Amount of females:  314\n",
      "Males were more\n"
     ]
    }
   ],
   "source": [
    "males_count = dataset[\"Sex\"].value_counts()[\"male\"]\n",
    "print(\"Amount of males: \", males_count)\n",
    "females_count = dataset[\"Sex\"].value_counts()[\"female\"]\n",
    "print(\"Amount of females: \", females_count)\n",
    "\n",
    "if males_count > females_count:\n",
    "    print(\"Males were more\")\n",
    "else:\n",
    "    print(\"Females were more\")"
   ],
   "metadata": {
    "collapsed": false,
    "pycharm": {
     "name": "#%%\n"
    }
   }
  },
  {
   "cell_type": "code",
   "execution_count": 22,
   "outputs": [
    {
     "name": "stdout",
     "output_type": "stream",
     "text": [
      "Amounts of ports: \n"
     ]
    },
    {
     "data": {
      "text/plain": "S    644\nC    168\nQ     77\nName: Embarked, dtype: int64"
     },
     "execution_count": 22,
     "metadata": {},
     "output_type": "execute_result"
    }
   ],
   "source": [
    "print ('Amounts of ports: ')\n",
    "dataset[\"Embarked\"].value_counts()"
   ],
   "metadata": {
    "collapsed": false,
    "pycharm": {
     "name": "#%%\n"
    }
   }
  },
  {
   "cell_type": "code",
   "execution_count": 23,
   "outputs": [
    {
     "name": "stdout",
     "output_type": "stream",
     "text": [
      "The least popular port was: \n"
     ]
    },
    {
     "data": {
      "text/plain": "'Q'"
     },
     "execution_count": 23,
     "metadata": {},
     "output_type": "execute_result"
    }
   ],
   "source": [
    "print('The least popular port was: ')\n",
    "dataset[\"Embarked\"].value_counts().sort_values().index.tolist()[0]"
   ],
   "metadata": {
    "collapsed": false,
    "pycharm": {
     "name": "#%%\n"
    }
   }
  },
  {
   "cell_type": "code",
   "execution_count": 24,
   "outputs": [
    {
     "name": "stdout",
     "output_type": "stream",
     "text": [
      "The amount of classes on Titanic: \n"
     ]
    },
    {
     "data": {
      "text/plain": "3"
     },
     "execution_count": 24,
     "metadata": {},
     "output_type": "execute_result"
    }
   ],
   "source": [
    "print('The amount of classes on Titanic: ')\n",
    "dataset[\"Pclass\"].nunique()"
   ],
   "metadata": {
    "collapsed": false,
    "pycharm": {
     "name": "#%%\n"
    }
   }
  },
  {
   "cell_type": "code",
   "execution_count": 25,
   "outputs": [
    {
     "name": "stdout",
     "output_type": "stream",
     "text": [
      "Overall ticket price average: \n"
     ]
    },
    {
     "data": {
      "text/plain": "32.204207968574636"
     },
     "execution_count": 25,
     "metadata": {},
     "output_type": "execute_result"
    }
   ],
   "source": [
    "print('Overall ticket price average: ')\n",
    "dataset[\"Fare\"].mean()"
   ],
   "metadata": {
    "collapsed": false,
    "pycharm": {
     "name": "#%%\n"
    }
   }
  },
  {
   "cell_type": "code",
   "execution_count": 26,
   "outputs": [
    {
     "name": "stdout",
     "output_type": "stream",
     "text": [
      "Ticket price average for each class: \n"
     ]
    },
    {
     "data": {
      "text/plain": "Pclass\n1    84.154687\n2    20.662183\n3    13.675550\nName: Fare, dtype: float64"
     },
     "execution_count": 26,
     "metadata": {},
     "output_type": "execute_result"
    }
   ],
   "source": [
    "print('Ticket price average for each class: ')\n",
    "dataset.groupby(\"Pclass\").Fare.mean()"
   ],
   "metadata": {
    "collapsed": false,
    "pycharm": {
     "name": "#%%\n"
    }
   }
  },
  {
   "cell_type": "markdown",
   "metadata": {},
   "source": [
    "**Task 2** (0.5 points) <br/>\n",
    "Visualize age distribution (you may use a histogram, for example). \n",
    "\n",
    "    * What is the minimal and maximum ages of the passengers? Visualize it on the plot\n",
    "    * What is the mean age? And among males and females sepatately? Visualize it on the plot\n",
    "    * Make conclusions about what you see on the plot"
   ]
  },
  {
   "cell_type": "code",
   "execution_count": 27,
   "metadata": {},
   "outputs": [
    {
     "data": {
      "text/plain": "<Figure size 640x480 with 1 Axes>",
      "image/png": "[encoded data removed]"
     },
     "metadata": {},
     "output_type": "display_data"
    },
    {
     "name": "stdout",
     "output_type": "stream",
     "text": [
      "Minimal age of the passengers:  0.42\n",
      "Maximal age of the passengers:  80.0\n"
     ]
    },
    {
     "data": {
      "text/plain": "<Figure size 640x480 with 1 Axes>",
      "image/png": "[encoded data removed]"
     },
     "metadata": {},
     "output_type": "display_data"
    },
    {
     "name": "stdout",
     "output_type": "stream",
     "text": [
      "The mean age:  29.69911764705882\n",
      "The mean age among females:  27.915708812260537\n",
      "The mean age among males:  30.72664459161148\n"
     ]
    },
    {
     "data": {
      "text/plain": "female         AxesSubplot(0.1,0.15;0.363636x0.75)\nmale      AxesSubplot(0.536364,0.15;0.363636x0.75)\ndtype: object"
     },
     "execution_count": 27,
     "metadata": {},
     "output_type": "execute_result"
    },
    {
     "data": {
      "text/plain": "<Figure size 640x480 with 2 Axes>",
      "image/png": "[encoded data removed]"
     },
     "metadata": {},
     "output_type": "display_data"
    }
   ],
   "source": [
    "plt.hist(dataset[\"Age\"], bins = 20)\n",
    "plt.title('Distribution of Age values')\n",
    "plt.show()\n",
    "\n",
    "print('Minimal age of the passengers: ', dataset.Age.min())\n",
    "print('Maximal age of the passengers: ', dataset.Age.max())\n",
    "\n",
    "dataset['Age'].plot(kind='box', title='Ages of passengers')\n",
    "plt.show()\n",
    "\n",
    "print('The mean age: ', dataset[\"Age\"].mean())\n",
    "\n",
    "print('The mean age among females: ', dataset[dataset.Sex == \"female\"].Age.mean())\n",
    "print('The mean age among males: ', dataset[dataset.Sex == \"male\"].Age.mean())\n",
    "dataset.groupby(\"Sex\").boxplot(column = \"Age\")"
   ]
  },
  {
   "cell_type": "markdown",
   "source": [
    "Выводы по графику \"Distribution of Age values\":\n",
    "1) Большая часть пассажиров Титаника были в возрасте от 20 до 40 лет.\n",
    "2) На корабле было довольно много маленьких детей от 0 до 4-х лет - 40 человек. Это примерно\n",
    "равно количеству людей в возрасте от 50 до 80 лет вместе взятых.\n",
    "3) Молодых людей и детей на корабле было больше, чем людей среднего и пожилого возраста.\n",
    "\n",
    "Выводы по box-plot \"Ages of passengers\":\n",
    "1) 75% пассажиров младше 40 лет.\n",
    "2) 25% пассажиров младше 21 года.\n",
    "3) Максимальный возраст без учета выбросов - 65 лет.\n",
    "4) Минимальный возраст в соответствии с расчетами - 0.42, график подтверждает это.\n",
    "5) Примерно 50% пассажиров младше 30 лет.\n",
    "6) В выборке присутствует довольно много выбросов - пожилых людей в возрасте от 70 до 80 лет.\n",
    "\n",
    "Выводы по boxplot - ам \"Female\" и \"Male\":\n",
    "1) Максимальный возраст без учета выбросов среди мужчин больше, чем среди женщин.\n",
    "2) Также все выбросы, которые встречаются в выборке, относятся только к мужчинам.\n",
    "3) Минимальный возраст примерно одинаковый как у мужчин, так и у женщин.\n",
    "4) Среднее значение возрастов женщин меньше, чем среднее значение возрастов всех\n",
    "пассажиров, а среднее значение возрастов мужчин больше, чем среднее значение возрастов\n",
    "всех пассажиров.\n",
    "5) Верхний и нижний квартили женщин меньше верхнего и нижнего квартиля мужчин соответственно."
   ],
   "metadata": {
    "collapsed": false,
    "pycharm": {
     "name": "#%% md\n"
    }
   }
  },
  {
   "cell_type": "markdown",
   "metadata": {},
   "source": [
    "**Task 3** (1 points) <br/>\n",
    "Find all the titles of the passengers (example, *Capt., Mr.,Mme.*), which are written in the column Name, and answer the following questions:\n",
    "\n",
    "    * How many are there unique titles?\n",
    "    * How many are there passengers with every title?\n",
    "    * What is the most popular man's title? And woman's title?\n",
    "    \n",
    "**Hint** You may select the title from the name as a word which contains a dot."
   ]
  },
  {
   "cell_type": "code",
   "execution_count": 28,
   "metadata": {
    "pycharm": {
     "name": "#%%\n"
    }
   },
   "outputs": [],
   "source": [
    "def title_extraction(string):\n",
    "    first, second = string.split(\".\", 1)\n",
    "    return first.split()[-1]"
   ]
  },
  {
   "cell_type": "code",
   "execution_count": 29,
   "outputs": [
    {
     "name": "stdout",
     "output_type": "stream",
     "text": [
      "Amount of unique titles: \n"
     ]
    },
    {
     "data": {
      "text/plain": "17"
     },
     "execution_count": 29,
     "metadata": {},
     "output_type": "execute_result"
    }
   ],
   "source": [
    "column = dataset.Name.apply(title_extraction)\n",
    "print('Amount of unique titles: ')\n",
    "column.nunique()"
   ],
   "metadata": {
    "collapsed": false,
    "pycharm": {
     "name": "#%%\n"
    }
   }
  },
  {
   "cell_type": "code",
   "execution_count": 30,
   "outputs": [
    {
     "name": "stdout",
     "output_type": "stream",
     "text": [
      "Amounts of passengers of each title: \n"
     ]
    },
    {
     "data": {
      "text/plain": "Mr          517\nMiss        182\nMrs         125\nMaster       40\nDr            7\nRev           6\nMlle          2\nMajor         2\nCol           2\nCountess      1\nCapt          1\nMs            1\nSir           1\nLady          1\nMme           1\nDon           1\nJonkheer      1\nName: Name, dtype: int64"
     },
     "execution_count": 30,
     "metadata": {},
     "output_type": "execute_result"
    }
   ],
   "source": [
    "print('Amounts of passengers of each title: ')\n",
    "column.value_counts()"
   ],
   "metadata": {
    "collapsed": false,
    "pycharm": {
     "name": "#%%\n"
    }
   }
  },
  {
   "cell_type": "code",
   "execution_count": 31,
   "outputs": [
    {
     "name": "stdout",
     "output_type": "stream",
     "text": [
      "Amounts of women of each woman title: \n"
     ]
    },
    {
     "data": {
      "text/plain": "Miss        182\nMrs         125\nMlle          2\nMme           1\nMs            1\nLady          1\nCountess      1\nDr            1\nName: Name, dtype: int64"
     },
     "execution_count": 31,
     "metadata": {},
     "output_type": "execute_result"
    }
   ],
   "source": [
    "print('Amounts of women of each woman title: ')\n",
    "column[dataset.Sex == \"female\"].value_counts()"
   ],
   "metadata": {
    "collapsed": false,
    "pycharm": {
     "name": "#%%\n"
    }
   }
  },
  {
   "cell_type": "code",
   "execution_count": 32,
   "outputs": [
    {
     "name": "stdout",
     "output_type": "stream",
     "text": [
      "The most popular woman title: \n"
     ]
    },
    {
     "data": {
      "text/plain": "'Miss'"
     },
     "execution_count": 32,
     "metadata": {},
     "output_type": "execute_result"
    }
   ],
   "source": [
    "print('The most popular woman title: ')\n",
    "column[dataset.Sex == \"female\"].value_counts().index.tolist()[0]"
   ],
   "metadata": {
    "collapsed": false,
    "pycharm": {
     "name": "#%%\n"
    }
   }
  },
  {
   "cell_type": "code",
   "execution_count": 33,
   "outputs": [
    {
     "name": "stdout",
     "output_type": "stream",
     "text": [
      "Amounts of men of each man title: \n"
     ]
    },
    {
     "data": {
      "text/plain": "Mr          517\nMaster       40\nRev           6\nDr            6\nMajor         2\nCol           2\nDon           1\nSir           1\nCapt          1\nJonkheer      1\nName: Name, dtype: int64"
     },
     "execution_count": 33,
     "metadata": {},
     "output_type": "execute_result"
    }
   ],
   "source": [
    "print('Amounts of men of each man title: ')\n",
    "column[dataset.Sex == \"male\"].value_counts()"
   ],
   "metadata": {
    "collapsed": false,
    "pycharm": {
     "name": "#%%\n"
    }
   }
  },
  {
   "cell_type": "code",
   "execution_count": 34,
   "outputs": [
    {
     "name": "stdout",
     "output_type": "stream",
     "text": [
      "The most popular man title: \n"
     ]
    },
    {
     "data": {
      "text/plain": "'Mr'"
     },
     "execution_count": 34,
     "metadata": {},
     "output_type": "execute_result"
    }
   ],
   "source": [
    "print('The most popular man title: ')\n",
    "column[dataset.Sex == \"male\"].value_counts().index.tolist()[0]"
   ],
   "metadata": {
    "collapsed": false,
    "pycharm": {
     "name": "#%%\n"
    }
   }
  },
  {
   "cell_type": "markdown",
   "metadata": {},
   "source": [
    "**Task 4** (0.5 points) <br/>\n",
    "Is there correlation between *pclass* and *ticket price*? Calculate mean price for each port and visualize prize distribution for each port. Make conclusions about what you see on the plot\n",
    "\n",
    "Hint: you could make one or several plot types i.e.  box, violine, pair, histogram (see additional notebooks for Seminar 1 \"Visualization with Seaborn\"). main point here is to **choose** plots wisely and **make meaningful conclusions**\n"
   ]
  },
  {
   "cell_type": "code",
   "execution_count": 35,
   "metadata": {},
   "outputs": [
    {
     "name": "stdout",
     "output_type": "stream",
     "text": [
      "Correlation between pclass and ticket price: \n"
     ]
    },
    {
     "data": {
      "text/plain": "-0.5494996199439076"
     },
     "execution_count": 35,
     "metadata": {},
     "output_type": "execute_result"
    }
   ],
   "source": [
    "print('Correlation between pclass and ticket price: ')\n",
    "dataset.corr(numeric_only=True)[\"Pclass\"][\"Fare\"]"
   ]
  },
  {
   "cell_type": "markdown",
   "source": [
    "Между pclass и ticket price есть отрицательная корреляция средней силы. Это указывает на то, что\n",
    "чем меньше номер класса, тем выше цена на билет на него. Это заключение вполне\n",
    "правдоподобно."
   ],
   "metadata": {
    "collapsed": false,
    "pycharm": {
     "name": "#%% md\n"
    }
   }
  },
  {
   "cell_type": "code",
   "execution_count": 36,
   "outputs": [
    {
     "name": "stdout",
     "output_type": "stream",
     "text": [
      "Ticket price mean value for each class: \n"
     ]
    },
    {
     "data": {
      "text/plain": "Pclass\n1    84.154687\n2    20.662183\n3    13.675550\nName: Fare, dtype: float64"
     },
     "execution_count": 36,
     "metadata": {},
     "output_type": "execute_result"
    }
   ],
   "source": [
    "print('Ticket price mean value for each class: ')\n",
    "dataset.groupby(\"Pclass\").Fare.mean()"
   ],
   "metadata": {
    "collapsed": false,
    "pycharm": {
     "name": "#%%\n"
    }
   }
  },
  {
   "cell_type": "code",
   "execution_count": 37,
   "outputs": [
    {
     "name": "stdout",
     "output_type": "stream",
     "text": [
      "Price distribution for each class: \n"
     ]
    },
    {
     "data": {
      "text/plain": "Text(0.5, 1.0, 'Price distribution for each class')"
     },
     "execution_count": 37,
     "metadata": {},
     "output_type": "execute_result"
    },
    {
     "data": {
      "text/plain": "<Figure size 640x480 with 4 Axes>",
      "image/png": "[encoded data removed]"
     },
     "metadata": {},
     "output_type": "display_data"
    }
   ],
   "source": [
    "print('Price distribution for each class: ')\n",
    "dataset['Fare'].hist(by = dataset['Pclass'])\n",
    "plt.title('Price distribution for each class')"
   ],
   "metadata": {
    "collapsed": false,
    "pycharm": {
     "name": "#%%\n"
    }
   }
  },
  {
   "cell_type": "markdown",
   "source": [
    "Анализ графиков распределения цены для каждого класса:\n",
    "1) Большинство пассажиров 1 класса заплатили за свой билет больше 100.\n",
    "2) Все пассажиры 2 и 3 классов заплатили за свои билеты меньше 100.\n",
    "3) Большая часть пассажиров 3 класса заплатили за билет на Титаник менее 20.\n",
    "4) Цена билета 2 класса в основном находится в диапазоне от 15 до 40.\n",
    "5) В распределении цен 1 класса есть очень большой выброс - 400."
   ],
   "metadata": {
    "collapsed": false,
    "pycharm": {
     "name": "#%% md\n"
    }
   }
  },
  {
   "cell_type": "markdown",
   "metadata": {},
   "source": [
    "**Task 5** (0.5 points) <br/>\n",
    "The same question as in task 4 about correlation between *embarked* and *ticket priсe*."
   ]
  },
  {
   "cell_type": "code",
   "execution_count": 46,
   "metadata": {},
   "outputs": [
    {
     "name": "stdout",
     "output_type": "stream",
     "text": [
      "Correlation between embarked and ticket price: \n"
     ]
    },
    {
     "data": {
      "text/plain": "-0.23036457312463007"
     },
     "execution_count": 46,
     "metadata": {},
     "output_type": "execute_result"
    }
   ],
   "source": [
    "dataset['Embarked'] = dataset['Embarked'].astype('category')\n",
    "dataset[\"Embarked_category\"] = dataset[\"Embarked\"].cat.codes\n",
    "print('Correlation between embarked and ticket price: ')\n",
    "dataset.corr(numeric_only=True)[\"Embarked_category\"][\"Fare\"]\n",
    "#dataset.Embarked_category.fillna(-1).corr(dataset.Fare)"
   ]
  },
  {
   "cell_type": "markdown",
   "source": [
    "Между портами и ценой билета есть слабая отрицательная корреляция."
   ],
   "metadata": {
    "collapsed": false,
    "pycharm": {
     "name": "#%% md\n"
    }
   }
  },
  {
   "cell_type": "code",
   "execution_count": null,
   "outputs": [],
   "source": [
    "print('Ticket price mean value for each port: ')\n",
    "dataset.groupby(\"Embarked\").Fare.mean()"
   ],
   "metadata": {
    "collapsed": false,
    "pycharm": {
     "name": "#%%\n"
    }
   }
  },
  {
   "cell_type": "code",
   "execution_count": null,
   "outputs": [],
   "source": [
    "plt.figure(figsize = (10, 10))\n",
    "sns.violinplot(dataset, x = 'Fare', y = 'Embarked',  hue = \"Embarked\")\n",
    "plt.title('Price distribution for each port')\n",
    "plt.show()"
   ],
   "metadata": {
    "collapsed": false,
    "pycharm": {
     "name": "#%%\n"
    }
   }
  },
  {
   "cell_type": "markdown",
   "source": [
    "Анализ графика распределения цен для каждого порта:\n",
    "1) Самые большие выбросы цен на билеты наблюдаются при отправлении из порта C.\n",
    "2) Распределение цен на билеты при отправлении из порта C имеет наибольший межквартильный размах.\n",
    "3) При отправлении из порта Q цена билета с наибольшей вероятностью будет примерно на\n",
    "уровне 20.\n",
    "4) Средние значения цен при отправлении из портов Q и S находятся примерно на одном уровне.\n",
    "5) Максимальное значение цены на билет при отправлении из порта C без учета выбросов -\n",
    "примерно 150."
   ],
   "metadata": {
    "collapsed": false
   }
  },
  {
   "cell_type": "markdown",
   "metadata": {},
   "source": [
    "**Task 6** (0.5 points) <br/>\n",
    "Visualize age distribution for survived and not survived passengers separately and calculate the mean age for each class. Are they different? Provide the same visualization for males and females separately. Make conclusions about what you see on the plots"
   ]
  },
  {
   "cell_type": "code",
   "execution_count": null,
   "metadata": {},
   "outputs": [],
   "source": [
    "print('Age distribution for survived and not survived passengers')\n",
    "dataset['Survived'] = dataset['Survived'].replace(to_replace = 0, value = 'Died')\n",
    "dataset['Survived'] = dataset['Survived'].replace(to_replace = 1, value = 'Survived')\n",
    "dataset['Age'].hist(by = dataset['Survived'])\n"
   ]
  },
  {
   "cell_type": "code",
   "execution_count": null,
   "outputs": [],
   "source": [
    "print('Age distribution for survived and not survived female passengers')\n",
    "dataset[dataset.Sex == 'female']['Age'].hist(by = dataset['Survived'])\n"
   ],
   "metadata": {
    "collapsed": false,
    "pycharm": {
     "name": "#%%\n"
    }
   }
  },
  {
   "cell_type": "code",
   "execution_count": null,
   "outputs": [],
   "source": [
    "print('Age distribution for survived and not survived male passengers')\n",
    "dataset[dataset.Sex == 'male']['Age'].hist(by = dataset['Survived'])\n"
   ],
   "metadata": {
    "collapsed": false,
    "pycharm": {
     "name": "#%%\n"
    }
   }
  },
  {
   "cell_type": "code",
   "execution_count": null,
   "outputs": [],
   "source": [
    "print('Mean ages for each class: ')\n",
    "dataset.groupby(\"Pclass\").Age.mean()"
   ],
   "metadata": {
    "collapsed": false,
    "pycharm": {
     "name": "#%%\n"
    }
   }
  },
  {
   "cell_type": "markdown",
   "source": [
    "Средние значения возраста для разных классов различаются. Наименьшее среднее значение у 3\n",
    "класса. Наибольшее - у 1 класса. Можно предположить, что среди обеспеченных людей,\n",
    "путешествовавших 1 классом, было больше людей старшего возраста, когда как молодежь\n",
    "чаще могла позволить себе билет только 3 класса."
   ],
   "metadata": {
    "collapsed": false,
    "pycharm": {
     "name": "#%% md\n"
    }
   }
  },
  {
   "cell_type": "markdown",
   "source": [
    "Выводы по графикам:\n",
    "1) Среди детей от 0 до 18 лет выживших больше, чем погибших.\n",
    "2) Среди остальных возрастных категорий число погибших превышает число выживших.\n",
    "3) У женщин практически во всех возрастных категориях число выживших значительно превышает.\n",
    "число погибших.\n",
    "4) Среди мужчин от 20 до 40 лет количество погибших значительно превышает количество выживших.\n",
    "5) У мужчин старшего возраста от 70 до 80 лет (выбросы) наблюдается хорошая выживаемость.\n"
   ],
   "metadata": {
    "collapsed": false,
    "pycharm": {
     "name": "#%% md\n"
    }
   }
  }
 ],
 "metadata": {
  "kernelspec": {
   "display_name": "Python 3 (ipykernel)",
   "language": "python",
   "name": "python3"
  },
  "language_info": {
   "codemirror_mode": {
    "name": "ipython",
    "version": 3
   },
   "file_extension": ".py",
   "mimetype": "text/x-python",
   "name": "python",
   "nbconvert_exporter": "python",
   "pygments_lexer": "ipython3",
   "version": "3.9.7"
  }
 },
 "nbformat": 4,
 "nbformat_minor": 4
}