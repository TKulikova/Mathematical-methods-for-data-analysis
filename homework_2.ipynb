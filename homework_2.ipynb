{
 "cells": [
  {
   "cell_type": "markdown",
   "metadata": {},
   "source": [
    "# HSE 2022: Mathematical Methods for Data Analysis\n",
    "\n",
    "## Homework 2"
   ]
  },
  {
   "cell_type": "code",
   "execution_count": 188,
   "metadata": {
    "ExecuteTime": {
     "end_time": "2020-09-26T16:48:20.566549Z",
     "start_time": "2020-09-26T16:48:19.893995Z"
    }
   },
   "outputs": [],
   "source": [
    "import pandas as pd\n",
    "import numpy as np\n",
    "import matplotlib.pyplot as plt\n",
    "import seaborn as sns\n",
    "import sklearn\n",
    "from sklearn import datasets\n",
    "from sklearn.datasets import load_boston\n",
    "from sklearn.model_selection import GridSearchCV\n",
    "from sklearn.model_selection import train_test_split\n",
    "from sklearn.linear_model import Ridge\n",
    "from sklearn.preprocessing import StandardScaler, LabelEncoder\n",
    "from sklearn.linear_model import LinearRegression, Ridge, Lasso, ElasticNet\n",
    "from sklearn.metrics import mean_squared_error, r2_score\n",
    "import statsmodels.api as sm\n",
    "from statsmodels.regression.linear_model import OLSResults\n",
    "from math import sqrt\n",
    "import random\n",
    "import sys\n",
    "\n",
    "import warnings\n",
    "warnings.filterwarnings(\"ignore\")\n",
    "\n",
    "%matplotlib inline\n",
    "\n",
    "sns.set(style=\"darkgrid\")"
   ]
  },
  {
   "cell_type": "markdown",
   "metadata": {},
   "source": [
    "### Data\n",
    "\n",
    "For this homework we use Dataset from seaborn on diamonds prices."
   ]
  },
  {
   "cell_type": "code",
   "execution_count": 189,
   "metadata": {},
   "outputs": [
    {
     "name": "stdout",
     "output_type": "stream",
     "text": [
      "<class 'pandas.core.frame.DataFrame'>\n",
      "RangeIndex: 53940 entries, 0 to 53939\n",
      "Data columns (total 10 columns):\n",
      " #   Column   Non-Null Count  Dtype   \n",
      "---  ------   --------------  -----   \n",
      " 0   carat    53940 non-null  float64 \n",
      " 1   cut      53940 non-null  category\n",
      " 2   color    53940 non-null  category\n",
      " 3   clarity  53940 non-null  category\n",
      " 4   depth    53940 non-null  float64 \n",
      " 5   table    53940 non-null  float64 \n",
      " 6   price    53940 non-null  int64   \n",
      " 7   x        53940 non-null  float64 \n",
      " 8   y        53940 non-null  float64 \n",
      " 9   z        53940 non-null  float64 \n",
      "dtypes: category(3), float64(6), int64(1)\n",
      "memory usage: 3.0 MB\n"
     ]
    }
   ],
   "source": [
    "data = sns.load_dataset('diamonds')\n",
    "\n",
    "y = data.price\n",
    "X = data.drop(['price'], axis=1)\n",
    "columns = data.drop(['price'], axis=1).columns\n",
    "data.info()"
   ]
  },
  {
   "cell_type": "markdown",
   "metadata": {},
   "source": [
    "## Linear regression"
   ]
  },
  {
   "cell_type": "markdown",
   "metadata": {},
   "source": [
    "#### 0. [0.25 points] Encode categorical variables."
   ]
  },
  {
   "cell_type": "code",
   "execution_count": 190,
   "metadata": {},
   "outputs": [
    {
     "data": {
      "text/plain": "   carat  cut  color  clarity  depth  table     x     y     z\n0   0.23    2      1        3   61.5   55.0  3.95  3.98  2.43\n1   0.21    3      1        2   59.8   61.0  3.89  3.84  2.31\n2   0.23    1      1        4   56.9   65.0  4.05  4.07  2.31\n3   0.29    3      5        5   62.4   58.0  4.20  4.23  2.63\n4   0.31    1      6        3   63.3   58.0  4.34  4.35  2.75",
      "text/html": "<div>\n<style scoped>\n    .dataframe tbody tr th:only-of-type {\n        vertical-align: middle;\n    }\n\n    .dataframe tbody tr th {\n        vertical-align: top;\n    }\n\n    .dataframe thead th {\n        text-align: right;\n    }\n</style>\n<table border=\"1\" class=\"dataframe\">\n  <thead>\n    <tr style=\"text-align: right;\">\n      <th></th>\n      <th>carat</th>\n      <th>cut</th>\n      <th>color</th>\n      <th>clarity</th>\n      <th>depth</th>\n      <th>table</th>\n      <th>x</th>\n      <th>y</th>\n      <th>z</th>\n    </tr>\n  </thead>\n  <tbody>\n    <tr>\n      <th>0</th>\n      <td>0.23</td>\n      <td>2</td>\n      <td>1</td>\n      <td>3</td>\n      <td>61.5</td>\n      <td>55.0</td>\n      <td>3.95</td>\n      <td>3.98</td>\n      <td>2.43</td>\n    </tr>\n    <tr>\n      <th>1</th>\n      <td>0.21</td>\n      <td>3</td>\n      <td>1</td>\n      <td>2</td>\n      <td>59.8</td>\n      <td>61.0</td>\n      <td>3.89</td>\n      <td>3.84</td>\n      <td>2.31</td>\n    </tr>\n    <tr>\n      <th>2</th>\n      <td>0.23</td>\n      <td>1</td>\n      <td>1</td>\n      <td>4</td>\n      <td>56.9</td>\n      <td>65.0</td>\n      <td>4.05</td>\n      <td>4.07</td>\n      <td>2.31</td>\n    </tr>\n    <tr>\n      <th>3</th>\n      <td>0.29</td>\n      <td>3</td>\n      <td>5</td>\n      <td>5</td>\n      <td>62.4</td>\n      <td>58.0</td>\n      <td>4.20</td>\n      <td>4.23</td>\n      <td>2.63</td>\n    </tr>\n    <tr>\n      <th>4</th>\n      <td>0.31</td>\n      <td>1</td>\n      <td>6</td>\n      <td>3</td>\n      <td>63.3</td>\n      <td>58.0</td>\n      <td>4.34</td>\n      <td>4.35</td>\n      <td>2.75</td>\n    </tr>\n  </tbody>\n</table>\n</div>"
     },
     "execution_count": 190,
     "metadata": {},
     "output_type": "execute_result"
    }
   ],
   "source": [
    "encoder = LabelEncoder()\n",
    "categorical = list(X.dtypes[X.dtypes == \"category\"].index)\n",
    "X[categorical] = X[categorical].fillna(\"NotGiven\")\n",
    "X[categorical] = X[categorical].fillna(\"NotGiven\")\n",
    "X['cut'] = encoder.fit_transform(X.cut)\n",
    "X['color'] = encoder.fit_transform(X.color)\n",
    "X['clarity'] = encoder.fit_transform(X.clarity)\n",
    "X.head()\n",
    "#╰( ͡° ͜ʖ ͡° )つ──☆*:・ﾟ"
   ]
  },
  {
   "cell_type": "markdown",
   "metadata": {},
   "source": [
    "#### 1. [0.25 points] Split the data into train and test sets with ratio 80:20 with random_state=17."
   ]
  },
  {
   "cell_type": "code",
   "execution_count": 191,
   "metadata": {},
   "outputs": [],
   "source": [
    "X_train, X_test, y_train, y_test = train_test_split(X, y, test_size=0.2, random_state=17)\n",
    "#╰( ͡° ͜ʖ ͡° )つ──☆*:・ﾟ"
   ]
  },
  {
   "cell_type": "markdown",
   "metadata": {},
   "source": [
    "#### 2. [1 point] Train models on train data using StatsModels library and apply it to the test set; use $RMSE$ and $R^2$ as the quality measure.\n",
    "\n",
    "* [`LinearRegression`](http://scikit-learn.org/stable/modules/generated/sklearn.linear_model.LinearRegression.html);\n",
    "* [`Ridge`](http://scikit-learn.org/stable/modules/generated/sklearn.linear_model.Ridge.html) with $\\alpha = 0.01$;\n",
    "* [`Lasso`](http://scikit-learn.org/stable/modules/generated/sklearn.linear_model.Lasso.html) with $\\alpha = 0.01$\n",
    "* [`ElasticNet`](https://scikit-learn.org/stable/modules/generated/sklearn.linear_model.ElasticNet.html) with $\\alpha = 0.01$, $l_{1}$_$ratio = 0.6$\n",
    "\n",
    "Don't forget to scale the data before training the models with StandardScaler!"
   ]
  },
  {
   "cell_type": "code",
   "execution_count": 192,
   "metadata": {},
   "outputs": [],
   "source": [
    "scaler = StandardScaler()\n",
    "X_train_scaled = scaler.fit_transform(X_train)\n",
    "X_test_scaled = scaler.transform(X_test)"
   ]
  },
  {
   "cell_type": "code",
   "execution_count": 193,
   "outputs": [
    {
     "name": "stdout",
     "output_type": "stream",
     "text": [
      "Train RMSE = 1347.9933\n",
      "Test RMSE = 1370.5909\n",
      "Train R2 = 0.8853\n",
      "Test R2 = 0.8840\n"
     ]
    },
    {
     "data": {
      "text/plain": "<class 'statsmodels.iolib.summary2.Summary'>\n\"\"\"\n                  Results: Ordinary least squares\n====================================================================\nModel:              OLS              Adj. R-squared:     0.885      \nDependent Variable: price            AIC:                744418.8263\nDate:               2022-10-16 20:26 BIC:                744505.5512\nNo. Observations:   43152            Log-Likelihood:     -3.7220e+05\nDf Model:           9                F-statistic:        3.701e+04  \nDf Residuals:       43142            Prob (F-statistic): 0.00       \nR-squared:          0.885            Scale:              1.8175e+06 \n---------------------------------------------------------------------\n         Coef.     Std.Err.     t      P>|t|     [0.025      0.975]  \n---------------------------------------------------------------------\nconst   3928.6813    6.4899  605.3537  0.0000   3915.9610   3941.4016\nx1      5257.1453   31.0710  169.1979  0.0000   5196.2456   5318.0450\nx2        76.4610    6.6590   11.4824  0.0000     63.4093     89.5128\nx3      -455.4350    6.8100  -66.8778  0.0000   -468.7826   -442.0874\nx4       491.4240    6.7022   73.3231  0.0000    478.2876    504.5604\nx5      -226.2704    7.9533  -28.4498  0.0000   -241.8590   -210.6818\nx6      -213.2612    6.9923  -30.4996  0.0000   -226.9662   -199.5562\nx7     -1383.2878   48.3537  -28.6077  0.0000  -1478.0619  -1288.5137\nx8        42.1665   29.5137    1.4287  0.1531    -15.6809    100.0138\nx9         3.3540   29.6459    0.1131  0.9099    -54.7524     61.4604\n--------------------------------------------------------------------\nOmnibus:            11265.146      Durbin-Watson:         1.999     \nProb(Omnibus):      0.000          Jarque-Bera (JB):      360275.892\nSkew:               0.611          Prob(JB):              0.000     \nKurtosis:           17.103         Condition No.:         18        \n====================================================================\n\n\"\"\"",
      "text/html": "<table class=\"simpletable\">\n<tr>\n        <td>Model:</td>               <td>OLS</td>         <td>Adj. R-squared:</td>      <td>0.885</td>   \n</tr>\n<tr>\n  <td>Dependent Variable:</td>       <td>price</td>             <td>AIC:</td>         <td>744418.8263</td>\n</tr>\n<tr>\n         <td>Date:</td>        <td>2022-10-16 20:26</td>        <td>BIC:</td>         <td>744505.5512</td>\n</tr>\n<tr>\n   <td>No. Observations:</td>        <td>43152</td>        <td>Log-Likelihood:</td>   <td>-3.7220e+05</td>\n</tr>\n<tr>\n       <td>Df Model:</td>              <td>9</td>           <td>F-statistic:</td>      <td>3.701e+04</td> \n</tr>\n<tr>\n     <td>Df Residuals:</td>          <td>43142</td>      <td>Prob (F-statistic):</td>    <td>0.00</td>    \n</tr>\n<tr>\n      <td>R-squared:</td>            <td>0.885</td>            <td>Scale:</td>        <td>1.8175e+06</td> \n</tr>\n</table>\n<table class=\"simpletable\">\n<tr>\n    <td></td>       <th>Coef.</th>   <th>Std.Err.</th>     <th>t</th>     <th>P>|t|</th>   <th>[0.025</th>     <th>0.975]</th>  \n</tr>\n<tr>\n  <th>const</th>  <td>3928.6813</td>  <td>6.4899</td>  <td>605.3537</td> <td>0.0000</td>  <td>3915.9610</td>  <td>3941.4016</td>\n</tr>\n<tr>\n  <th>x1</th>     <td>5257.1453</td>  <td>31.0710</td> <td>169.1979</td> <td>0.0000</td>  <td>5196.2456</td>  <td>5318.0450</td>\n</tr>\n<tr>\n  <th>x2</th>      <td>76.4610</td>   <td>6.6590</td>   <td>11.4824</td> <td>0.0000</td>   <td>63.4093</td>    <td>89.5128</td> \n</tr>\n<tr>\n  <th>x3</th>     <td>-455.4350</td>  <td>6.8100</td>  <td>-66.8778</td> <td>0.0000</td>  <td>-468.7826</td>  <td>-442.0874</td>\n</tr>\n<tr>\n  <th>x4</th>     <td>491.4240</td>   <td>6.7022</td>   <td>73.3231</td> <td>0.0000</td>  <td>478.2876</td>   <td>504.5604</td> \n</tr>\n<tr>\n  <th>x5</th>     <td>-226.2704</td>  <td>7.9533</td>  <td>-28.4498</td> <td>0.0000</td>  <td>-241.8590</td>  <td>-210.6818</td>\n</tr>\n<tr>\n  <th>x6</th>     <td>-213.2612</td>  <td>6.9923</td>  <td>-30.4996</td> <td>0.0000</td>  <td>-226.9662</td>  <td>-199.5562</td>\n</tr>\n<tr>\n  <th>x7</th>    <td>-1383.2878</td>  <td>48.3537</td> <td>-28.6077</td> <td>0.0000</td> <td>-1478.0619</td> <td>-1288.5137</td>\n</tr>\n<tr>\n  <th>x8</th>      <td>42.1665</td>   <td>29.5137</td>  <td>1.4287</td>  <td>0.1531</td>  <td>-15.6809</td>   <td>100.0138</td> \n</tr>\n<tr>\n  <th>x9</th>      <td>3.3540</td>    <td>29.6459</td>  <td>0.1131</td>  <td>0.9099</td>  <td>-54.7524</td>    <td>61.4604</td> \n</tr>\n</table>\n<table class=\"simpletable\">\n<tr>\n     <td>Omnibus:</td>    <td>11265.146</td>  <td>Durbin-Watson:</td>      <td>1.999</td>  \n</tr>\n<tr>\n  <td>Prob(Omnibus):</td>   <td>0.000</td>   <td>Jarque-Bera (JB):</td> <td>360275.892</td>\n</tr>\n<tr>\n       <td>Skew:</td>       <td>0.611</td>       <td>Prob(JB):</td>        <td>0.000</td>  \n</tr>\n<tr>\n     <td>Kurtosis:</td>    <td>17.103</td>    <td>Condition No.:</td>       <td>18</td>    \n</tr>\n</table>"
     },
     "execution_count": 193,
     "metadata": {},
     "output_type": "execute_result"
    }
   ],
   "source": [
    "X_train_scaled = sm.add_constant(X_train_scaled)\n",
    "X_test_scaled = sm.add_constant(X_test_scaled)\n",
    "model = sm.OLS(y_train, X_train_scaled)\n",
    "results = model.fit()\n",
    "y_pred_linear = results.predict(X_test_scaled)\n",
    "y_train_pred_linear = results.predict(X_train_scaled)\n",
    "print(\"Train RMSE = %.4f\" % mean_squared_error(y_train, y_train_pred_linear, squared=False))\n",
    "print(\"Test RMSE = %.4f\" % mean_squared_error(y_test, y_pred_linear, squared=False))\n",
    "print(\"Train R2 = %.4f\" % r2_score(y_train, y_train_pred_linear))\n",
    "print(\"Test R2 = %.4f\" % r2_score(y_test, y_pred_linear))\n",
    "OLSResults(model, results.params, model.normalized_cov_params).summary2()"
   ],
   "metadata": {
    "collapsed": false,
    "pycharm": {
     "name": "#%%\n"
    }
   }
  },
  {
   "cell_type": "code",
   "execution_count": 194,
   "outputs": [
    {
     "name": "stdout",
     "output_type": "stream",
     "text": [
      "Train RMSE = 1365.9920\n",
      "Test RMSE = 1380.9027\n",
      "Train R2 = 0.8822\n",
      "Test R2 = 0.8822\n"
     ]
    },
    {
     "data": {
      "text/plain": "<class 'statsmodels.iolib.summary.Summary'>\n\"\"\"\n                            OLS Regression Results                            \n==============================================================================\nDep. Variable:                  price   R-squared:                       0.882\nModel:                            OLS   Adj. R-squared:                  0.882\nMethod:                 Least Squares   F-statistic:                 3.591e+04\nDate:                Sun, 16 Oct 2022   Prob (F-statistic):               0.00\nTime:                        20:26:14   Log-Likelihood:            -3.7277e+05\nNo. Observations:               43152   AIC:                         7.456e+05\nDf Residuals:                   43142   BIC:                         7.457e+05\nDf Model:                           9                                         \nCovariance Type:            nonrobust                                         \n==============================================================================\n                 coef    std err          t      P>|t|      [0.025      0.975]\n------------------------------------------------------------------------------\nconst       3889.7835      6.577    591.463      0.000    3876.893    3902.674\nx1          4219.7372     31.486    134.020      0.000    4158.024    4281.450\nx2            81.8556      6.748     12.131      0.000      68.630      95.082\nx3          -424.7483      6.901    -61.550      0.000    -438.274    -411.222\nx4           496.6610      6.792     73.128      0.000     483.349     509.973\nx5          -162.6547      8.060    -20.182      0.000    -178.451    -146.858\nx6          -203.6562      7.086    -28.742      0.000    -217.544    -189.768\nx7          -312.9137     48.999     -6.386      0.000    -408.953    -216.874\nx8            21.4162     29.908      0.716      0.474     -37.204      80.036\nx9           -39.9802     30.042     -1.331      0.183     -98.862      18.902\n==============================================================================\nOmnibus:                    13066.102   Durbin-Watson:                   1.998\nProb(Omnibus):                  0.000   Jarque-Bera (JB):           183804.270\nSkew:                           1.067   Prob(JB):                         0.00\nKurtosis:                      12.883   Cond. No.                         17.5\n==============================================================================\n\nNotes:\n[1] Standard Errors assume that the covariance matrix of the errors is correctly specified.\n\"\"\"",
      "text/html": "<table class=\"simpletable\">\n<caption>OLS Regression Results</caption>\n<tr>\n  <th>Dep. Variable:</th>          <td>price</td>      <th>  R-squared:         </th>  <td>   0.882</td>  \n</tr>\n<tr>\n  <th>Model:</th>                   <td>OLS</td>       <th>  Adj. R-squared:    </th>  <td>   0.882</td>  \n</tr>\n<tr>\n  <th>Method:</th>             <td>Least Squares</td>  <th>  F-statistic:       </th>  <td>3.591e+04</td> \n</tr>\n<tr>\n  <th>Date:</th>             <td>Sun, 16 Oct 2022</td> <th>  Prob (F-statistic):</th>   <td>  0.00</td>   \n</tr>\n<tr>\n  <th>Time:</th>                 <td>20:26:14</td>     <th>  Log-Likelihood:    </th> <td>-3.7277e+05</td>\n</tr>\n<tr>\n  <th>No. Observations:</th>      <td> 43152</td>      <th>  AIC:               </th>  <td>7.456e+05</td> \n</tr>\n<tr>\n  <th>Df Residuals:</th>          <td> 43142</td>      <th>  BIC:               </th>  <td>7.457e+05</td> \n</tr>\n<tr>\n  <th>Df Model:</th>              <td>     9</td>      <th>                     </th>      <td> </td>     \n</tr>\n<tr>\n  <th>Covariance Type:</th>      <td>nonrobust</td>    <th>                     </th>      <td> </td>     \n</tr>\n</table>\n<table class=\"simpletable\">\n<tr>\n    <td></td>       <th>coef</th>     <th>std err</th>      <th>t</th>      <th>P>|t|</th>  <th>[0.025</th>    <th>0.975]</th>  \n</tr>\n<tr>\n  <th>const</th> <td> 3889.7835</td> <td>    6.577</td> <td>  591.463</td> <td> 0.000</td> <td> 3876.893</td> <td> 3902.674</td>\n</tr>\n<tr>\n  <th>x1</th>    <td> 4219.7372</td> <td>   31.486</td> <td>  134.020</td> <td> 0.000</td> <td> 4158.024</td> <td> 4281.450</td>\n</tr>\n<tr>\n  <th>x2</th>    <td>   81.8556</td> <td>    6.748</td> <td>   12.131</td> <td> 0.000</td> <td>   68.630</td> <td>   95.082</td>\n</tr>\n<tr>\n  <th>x3</th>    <td> -424.7483</td> <td>    6.901</td> <td>  -61.550</td> <td> 0.000</td> <td> -438.274</td> <td> -411.222</td>\n</tr>\n<tr>\n  <th>x4</th>    <td>  496.6610</td> <td>    6.792</td> <td>   73.128</td> <td> 0.000</td> <td>  483.349</td> <td>  509.973</td>\n</tr>\n<tr>\n  <th>x5</th>    <td> -162.6547</td> <td>    8.060</td> <td>  -20.182</td> <td> 0.000</td> <td> -178.451</td> <td> -146.858</td>\n</tr>\n<tr>\n  <th>x6</th>    <td> -203.6562</td> <td>    7.086</td> <td>  -28.742</td> <td> 0.000</td> <td> -217.544</td> <td> -189.768</td>\n</tr>\n<tr>\n  <th>x7</th>    <td> -312.9137</td> <td>   48.999</td> <td>   -6.386</td> <td> 0.000</td> <td> -408.953</td> <td> -216.874</td>\n</tr>\n<tr>\n  <th>x8</th>    <td>   21.4162</td> <td>   29.908</td> <td>    0.716</td> <td> 0.474</td> <td>  -37.204</td> <td>   80.036</td>\n</tr>\n<tr>\n  <th>x9</th>    <td>  -39.9802</td> <td>   30.042</td> <td>   -1.331</td> <td> 0.183</td> <td>  -98.862</td> <td>   18.902</td>\n</tr>\n</table>\n<table class=\"simpletable\">\n<tr>\n  <th>Omnibus:</th>       <td>13066.102</td> <th>  Durbin-Watson:     </th>  <td>   1.998</td> \n</tr>\n<tr>\n  <th>Prob(Omnibus):</th>  <td> 0.000</td>   <th>  Jarque-Bera (JB):  </th> <td>183804.270</td>\n</tr>\n<tr>\n  <th>Skew:</th>           <td> 1.067</td>   <th>  Prob(JB):          </th>  <td>    0.00</td> \n</tr>\n<tr>\n  <th>Kurtosis:</th>       <td>12.883</td>   <th>  Cond. No.          </th>  <td>    17.5</td> \n</tr>\n</table><br/><br/>Notes:<br/>[1] Standard Errors assume that the covariance matrix of the errors is correctly specified."
     },
     "execution_count": 194,
     "metadata": {},
     "output_type": "execute_result"
    }
   ],
   "source": [
    "from statsmodels.tools.tools import pinv_extended\n",
    "\n",
    "X_train_scaled = sm.add_constant(X_train_scaled)\n",
    "X_test_scaled = sm.add_constant(X_test_scaled)\n",
    "model = sm.OLS(y_train, X_train_scaled)\n",
    "results = model.fit_regularized(L1_wt=0, alpha=0.01)\n",
    "y_pred_ridge = results.predict(X_test_scaled)\n",
    "y_train_pred_ridge = results.predict(X_train_scaled)\n",
    "\n",
    "print(\"Train RMSE = %.4f\" % mean_squared_error(y_train, y_train_pred_ridge, squared=False))\n",
    "print(\"Test RMSE = %.4f\" % mean_squared_error(y_test, y_pred_ridge, squared=False))\n",
    "print(\"Train R2 = %.4f\" % r2_score(y_train, y_train_pred_ridge))\n",
    "print(\"Test R2 = %.4f\" % r2_score(y_test, y_pred_ridge))\n",
    "pinv_wexog, _ = pinv_extended(model.wexog)\n",
    "normalized_cov_params = np.dot(pinv_wexog, np.transpose(pinv_wexog))\n",
    "OLSResults(model, results.params, normalized_cov_params).summary()"
   ],
   "metadata": {
    "collapsed": false,
    "pycharm": {
     "name": "#%%\n"
    }
   }
  },
  {
   "cell_type": "code",
   "execution_count": 195,
   "outputs": [
    {
     "name": "stdout",
     "output_type": "stream",
     "text": [
      "Train RMSE = 1348.6037\n",
      "Test RMSE = 1369.1877\n",
      "Train R2 = 0.8852\n",
      "Test R2 = 0.8842\n"
     ]
    },
    {
     "data": {
      "text/plain": "<class 'statsmodels.iolib.summary2.Summary'>\n\"\"\"\n                  Results: Ordinary least squares\n====================================================================\nModel:              OLS              Adj. R-squared:     0.885      \nDependent Variable: price            AIC:                744457.9003\nDate:               2022-10-16 20:26 BIC:                744544.6252\nNo. Observations:   43152            Log-Likelihood:     -3.7222e+05\nDf Model:           9                F-statistic:        3.697e+04  \nDf Residuals:       43142            Prob (F-statistic): 0.00       \nR-squared:          0.885            Scale:              1.8192e+06 \n---------------------------------------------------------------------\n         Coef.     Std.Err.     t      P>|t|     [0.025      0.975]  \n---------------------------------------------------------------------\nconst   3928.6713    6.4928  605.0782  0.0000   3915.9452   3941.3974\nx1      5063.8698   31.0850  162.9037  0.0000   5002.9425   5124.7970\nx2        77.5642    6.6620   11.6428  0.0000     64.5066     90.6218\nx3      -453.1266    6.8130  -66.5087  0.0000   -466.4802   -439.7729\nx4       495.2762    6.7052   73.8644  0.0000    482.1339    508.4186\nx5      -214.9442    7.9569  -27.0135  0.0000   -230.5399   -199.3485\nx6      -213.4343    6.9954  -30.5105  0.0000   -227.1455   -199.7231\nx7     -1201.4586   48.3756  -24.8361  0.0000  -1296.2757  -1106.6416\nx8        54.7441   29.5270    1.8540  0.0637     -3.1294    112.6176\nx9        -1.4625   29.6593   -0.0493  0.9607    -59.5953     56.6702\n--------------------------------------------------------------------\nOmnibus:            11656.263      Durbin-Watson:         1.999     \nProb(Omnibus):      0.000          Jarque-Bera (JB):      315053.588\nSkew:               0.713          Prob(JB):              0.000     \nKurtosis:           16.160         Condition No.:         18        \n====================================================================\n\n\"\"\"",
      "text/html": "<table class=\"simpletable\">\n<tr>\n        <td>Model:</td>               <td>OLS</td>         <td>Adj. R-squared:</td>      <td>0.885</td>   \n</tr>\n<tr>\n  <td>Dependent Variable:</td>       <td>price</td>             <td>AIC:</td>         <td>744457.9003</td>\n</tr>\n<tr>\n         <td>Date:</td>        <td>2022-10-16 20:26</td>        <td>BIC:</td>         <td>744544.6252</td>\n</tr>\n<tr>\n   <td>No. Observations:</td>        <td>43152</td>        <td>Log-Likelihood:</td>   <td>-3.7222e+05</td>\n</tr>\n<tr>\n       <td>Df Model:</td>              <td>9</td>           <td>F-statistic:</td>      <td>3.697e+04</td> \n</tr>\n<tr>\n     <td>Df Residuals:</td>          <td>43142</td>      <td>Prob (F-statistic):</td>    <td>0.00</td>    \n</tr>\n<tr>\n      <td>R-squared:</td>            <td>0.885</td>            <td>Scale:</td>        <td>1.8192e+06</td> \n</tr>\n</table>\n<table class=\"simpletable\">\n<tr>\n    <td></td>       <th>Coef.</th>   <th>Std.Err.</th>     <th>t</th>     <th>P>|t|</th>   <th>[0.025</th>     <th>0.975]</th>  \n</tr>\n<tr>\n  <th>const</th>  <td>3928.6713</td>  <td>6.4928</td>  <td>605.0782</td> <td>0.0000</td>  <td>3915.9452</td>  <td>3941.3974</td>\n</tr>\n<tr>\n  <th>x1</th>     <td>5063.8698</td>  <td>31.0850</td> <td>162.9037</td> <td>0.0000</td>  <td>5002.9425</td>  <td>5124.7970</td>\n</tr>\n<tr>\n  <th>x2</th>      <td>77.5642</td>   <td>6.6620</td>   <td>11.6428</td> <td>0.0000</td>   <td>64.5066</td>    <td>90.6218</td> \n</tr>\n<tr>\n  <th>x3</th>     <td>-453.1266</td>  <td>6.8130</td>  <td>-66.5087</td> <td>0.0000</td>  <td>-466.4802</td>  <td>-439.7729</td>\n</tr>\n<tr>\n  <th>x4</th>     <td>495.2762</td>   <td>6.7052</td>   <td>73.8644</td> <td>0.0000</td>  <td>482.1339</td>   <td>508.4186</td> \n</tr>\n<tr>\n  <th>x5</th>     <td>-214.9442</td>  <td>7.9569</td>  <td>-27.0135</td> <td>0.0000</td>  <td>-230.5399</td>  <td>-199.3485</td>\n</tr>\n<tr>\n  <th>x6</th>     <td>-213.4343</td>  <td>6.9954</td>  <td>-30.5105</td> <td>0.0000</td>  <td>-227.1455</td>  <td>-199.7231</td>\n</tr>\n<tr>\n  <th>x7</th>    <td>-1201.4586</td>  <td>48.3756</td> <td>-24.8361</td> <td>0.0000</td> <td>-1296.2757</td> <td>-1106.6416</td>\n</tr>\n<tr>\n  <th>x8</th>      <td>54.7441</td>   <td>29.5270</td>  <td>1.8540</td>  <td>0.0637</td>   <td>-3.1294</td>   <td>112.6176</td> \n</tr>\n<tr>\n  <th>x9</th>      <td>-1.4625</td>   <td>29.6593</td>  <td>-0.0493</td> <td>0.9607</td>  <td>-59.5953</td>    <td>56.6702</td> \n</tr>\n</table>\n<table class=\"simpletable\">\n<tr>\n     <td>Omnibus:</td>    <td>11656.263</td>  <td>Durbin-Watson:</td>      <td>1.999</td>  \n</tr>\n<tr>\n  <td>Prob(Omnibus):</td>   <td>0.000</td>   <td>Jarque-Bera (JB):</td> <td>315053.588</td>\n</tr>\n<tr>\n       <td>Skew:</td>       <td>0.713</td>       <td>Prob(JB):</td>        <td>0.000</td>  \n</tr>\n<tr>\n     <td>Kurtosis:</td>    <td>16.160</td>    <td>Condition No.:</td>       <td>18</td>    \n</tr>\n</table>"
     },
     "execution_count": 195,
     "metadata": {},
     "output_type": "execute_result"
    }
   ],
   "source": [
    "X_train_scaled = sm.add_constant(X_train_scaled)\n",
    "X_test_scaled = sm.add_constant(X_test_scaled)\n",
    "model = sm.OLS(y_train, X_train_scaled)\n",
    "results = model.fit_regularized(L1_wt=1, alpha=0.01)\n",
    "\n",
    "y_pred_lasso = results.predict(X_test_scaled)\n",
    "y_train_pred_lasso = results.predict(X_train_scaled)\n",
    "\n",
    "print(\"Train RMSE = %.4f\" % mean_squared_error(y_train, y_train_pred_lasso, squared=False))\n",
    "print(\"Test RMSE = %.4f\" % mean_squared_error(y_test, y_pred_lasso, squared=False))\n",
    "print(\"Train R2 = %.4f\" % r2_score(y_train, y_train_pred_lasso))\n",
    "print(\"Test R2 = %.4f\" % r2_score(y_test, y_pred_lasso))\n",
    "pinv_wexog, _ = pinv_extended(model.wexog)\n",
    "normalized_cov_params = np.dot(pinv_wexog, np.transpose(pinv_wexog))\n",
    "OLSResults(model, results.params, normalized_cov_params).summary2()"
   ],
   "metadata": {
    "collapsed": false,
    "pycharm": {
     "name": "#%%\n"
    }
   }
  },
  {
   "cell_type": "code",
   "execution_count": 196,
   "outputs": [
    {
     "name": "stdout",
     "output_type": "stream",
     "text": [
      "Train RMSE = 1353.6044\n",
      "Test RMSE = 1370.9586\n",
      "Train R2 = 0.8844\n",
      "Test R2 = 0.8839\n"
     ]
    },
    {
     "data": {
      "text/plain": "<class 'statsmodels.iolib.summary2.Summary'>\n\"\"\"\n                  Results: Ordinary least squares\n====================================================================\nModel:              OLS              Adj. R-squared:     0.884      \nDependent Variable: price            AIC:                744777.3304\nDate:               2022-10-16 20:26 BIC:                744864.0552\nNo. Observations:   43152            Log-Likelihood:     -3.7238e+05\nDf Model:           9                F-statistic:        3.666e+04  \nDf Residuals:       43142            Prob (F-statistic): 0.00       \nR-squared:          0.884            Scale:              1.8327e+06 \n---------------------------------------------------------------------\n            Coef.    Std.Err.     t      P>|t|     [0.025     0.975] \n---------------------------------------------------------------------\nconst     3913.0232    6.5169  600.4416  0.0000  3900.2499  3925.7965\nx1        4675.8946   31.2003  149.8669  0.0000  4614.7414  4737.0478\nx2          79.7319    6.6867   11.9240  0.0000    66.6258    92.8379\nx3        -440.5288    6.8383  -64.4208  0.0000  -453.9320  -427.1256\nx4         496.4432    6.7301   73.7649  0.0000   483.2521   509.6342\nx5        -190.1759    7.9864  -23.8124  0.0000  -205.8294  -174.5223\nx6        -209.3948    7.0214  -29.8225  0.0000  -223.1568  -195.6328\nx7        -766.0692   48.5550  -15.7774  0.0000  -861.2378  -670.9005\nx8          20.1115   29.6365    0.6786  0.4974   -37.9767    78.1996\nx9         -26.8075   29.7693   -0.9005  0.3679   -85.1558    31.5408\n--------------------------------------------------------------------\nOmnibus:            12406.161      Durbin-Watson:         1.999     \nProb(Omnibus):      0.000          Jarque-Bera (JB):      244618.648\nSkew:               0.894          Prob(JB):              0.000     \nKurtosis:           14.526         Condition No.:         18        \n====================================================================\n\n\"\"\"",
      "text/html": "<table class=\"simpletable\">\n<tr>\n        <td>Model:</td>               <td>OLS</td>         <td>Adj. R-squared:</td>      <td>0.884</td>   \n</tr>\n<tr>\n  <td>Dependent Variable:</td>       <td>price</td>             <td>AIC:</td>         <td>744777.3304</td>\n</tr>\n<tr>\n         <td>Date:</td>        <td>2022-10-16 20:26</td>        <td>BIC:</td>         <td>744864.0552</td>\n</tr>\n<tr>\n   <td>No. Observations:</td>        <td>43152</td>        <td>Log-Likelihood:</td>   <td>-3.7238e+05</td>\n</tr>\n<tr>\n       <td>Df Model:</td>              <td>9</td>           <td>F-statistic:</td>      <td>3.666e+04</td> \n</tr>\n<tr>\n     <td>Df Residuals:</td>          <td>43142</td>      <td>Prob (F-statistic):</td>    <td>0.00</td>    \n</tr>\n<tr>\n      <td>R-squared:</td>            <td>0.884</td>            <td>Scale:</td>        <td>1.8327e+06</td> \n</tr>\n</table>\n<table class=\"simpletable\">\n<tr>\n    <td></td>      <th>Coef.</th>   <th>Std.Err.</th>     <th>t</th>     <th>P>|t|</th>  <th>[0.025</th>    <th>0.975]</th>  \n</tr>\n<tr>\n  <th>const</th> <td>3913.0232</td>  <td>6.5169</td>  <td>600.4416</td> <td>0.0000</td> <td>3900.2499</td> <td>3925.7965</td>\n</tr>\n<tr>\n  <th>x1</th>    <td>4675.8946</td>  <td>31.2003</td> <td>149.8669</td> <td>0.0000</td> <td>4614.7414</td> <td>4737.0478</td>\n</tr>\n<tr>\n  <th>x2</th>     <td>79.7319</td>   <td>6.6867</td>   <td>11.9240</td> <td>0.0000</td>  <td>66.6258</td>   <td>92.8379</td> \n</tr>\n<tr>\n  <th>x3</th>    <td>-440.5288</td>  <td>6.8383</td>  <td>-64.4208</td> <td>0.0000</td> <td>-453.9320</td> <td>-427.1256</td>\n</tr>\n<tr>\n  <th>x4</th>    <td>496.4432</td>   <td>6.7301</td>   <td>73.7649</td> <td>0.0000</td> <td>483.2521</td>  <td>509.6342</td> \n</tr>\n<tr>\n  <th>x5</th>    <td>-190.1759</td>  <td>7.9864</td>  <td>-23.8124</td> <td>0.0000</td> <td>-205.8294</td> <td>-174.5223</td>\n</tr>\n<tr>\n  <th>x6</th>    <td>-209.3948</td>  <td>7.0214</td>  <td>-29.8225</td> <td>0.0000</td> <td>-223.1568</td> <td>-195.6328</td>\n</tr>\n<tr>\n  <th>x7</th>    <td>-766.0692</td>  <td>48.5550</td> <td>-15.7774</td> <td>0.0000</td> <td>-861.2378</td> <td>-670.9005</td>\n</tr>\n<tr>\n  <th>x8</th>     <td>20.1115</td>   <td>29.6365</td>  <td>0.6786</td>  <td>0.4974</td> <td>-37.9767</td>   <td>78.1996</td> \n</tr>\n<tr>\n  <th>x9</th>    <td>-26.8075</td>   <td>29.7693</td>  <td>-0.9005</td> <td>0.3679</td> <td>-85.1558</td>   <td>31.5408</td> \n</tr>\n</table>\n<table class=\"simpletable\">\n<tr>\n     <td>Omnibus:</td>    <td>12406.161</td>  <td>Durbin-Watson:</td>      <td>1.999</td>  \n</tr>\n<tr>\n  <td>Prob(Omnibus):</td>   <td>0.000</td>   <td>Jarque-Bera (JB):</td> <td>244618.648</td>\n</tr>\n<tr>\n       <td>Skew:</td>       <td>0.894</td>       <td>Prob(JB):</td>        <td>0.000</td>  \n</tr>\n<tr>\n     <td>Kurtosis:</td>    <td>14.526</td>    <td>Condition No.:</td>       <td>18</td>    \n</tr>\n</table>"
     },
     "execution_count": 196,
     "metadata": {},
     "output_type": "execute_result"
    }
   ],
   "source": [
    "X_train_scaled = sm.add_constant(X_train_scaled)\n",
    "X_test_scaled = sm.add_constant(X_test_scaled)\n",
    "model = sm.OLS(y_train, X_train_scaled)\n",
    "results = model.fit_regularized(L1_wt = 0.6,alpha=0.01)\n",
    "y_pred_elastic = results.predict(X_test_scaled)\n",
    "y_train_pred_elastic = results.predict(X_train_scaled)\n",
    "\n",
    "print(\"Train RMSE = %.4f\" % mean_squared_error(y_train, y_train_pred_elastic, squared=False))\n",
    "print(\"Test RMSE = %.4f\" % mean_squared_error(y_test, y_pred_elastic, squared=False))\n",
    "print(\"Train R2 = %.4f\" % r2_score(y_train, y_train_pred_elastic))\n",
    "print(\"Test R2 = %.4f\" % r2_score(y_test, y_pred_elastic))\n",
    "pinv_wexog, _ = pinv_extended(model.wexog)\n",
    "normalized_cov_params = np.dot(pinv_wexog, np.transpose(pinv_wexog))\n",
    "OLSResults(model, results.params, normalized_cov_params).summary2()"
   ],
   "metadata": {
    "collapsed": false,
    "pycharm": {
     "name": "#%%\n"
    }
   }
  },
  {
   "cell_type": "markdown",
   "metadata": {},
   "source": [
    "#### 3. [1 point] Explore the values of the parameters of the resulting models and compare the number of zero weights in them. Comment on the significance of the coefficients, overal model significance and other related factors from the results table"
   ]
  },
  {
   "cell_type": "markdown",
   "source": [
    "1) В каждой обученной модели два незначимых коэффициента - x8 и x9.\n",
    "У данных коэффициентов p-value > 0.05, следовательно, гипотеза о незначимости\n",
    "данных коэффициентов не может быть отвергнута.\n",
    "2) Также в доверительных интервалах коэффициентов x8 и x9 во всех моделях содержится 0,\n",
    "что также говорит о незначимости данных коэффициентов.\n",
    "3) Также в каждой модели значение Prob(F-statistic) равно нулю. Это означает,\n",
    "что вероятность того, что все коэффициенты в моделях одновременно равны 0,\n",
    "равна 0, следовательно, все обученные модели являются значимыми.\n",
    "4) AIC - параметр, который показывает, насколько сильно переобучена модель.\n",
    "Чем меньше данный параметр, тем лучше модель. По такому критерию, среди обученных\n",
    "моделей лучшей является обычная линейная регрессия.\n",
    "5) По параметру BIC (то же самое, что AIC, только штрафует за ненужные параметры)\n",
    "также лучшей является линейная регрессия.\n",
    "6) В соответствии с параметром R-squared (чем он ближе к единице, тем точнее модель)\n",
    "наименее точной является модель Ridge."
   ],
   "metadata": {
    "collapsed": false,
    "pycharm": {
     "name": "#%% md\n"
    }
   }
  },
  {
   "cell_type": "markdown",
   "metadata": {},
   "source": [
    "#### 4. [1 point] Implement one of the elimination algorithms that were described in the Seminar_4 (Elimination by P-value, Forward elimination, Backward elimination), make conclusions."
   ]
  },
  {
   "cell_type": "code",
   "execution_count": 197,
   "metadata": {},
   "outputs": [
    {
     "name": "stdout",
     "output_type": "stream",
     "text": [
      "Significant features:  ['carat', 'cut', 'color', 'clarity', 'depth', 'table', 'x']\n"
     ]
    },
    {
     "data": {
      "text/plain": "<class 'statsmodels.iolib.summary2.Summary'>\n\"\"\"\n                  Results: Ordinary least squares\n====================================================================\nModel:              OLS              Adj. R-squared:     0.885      \nDependent Variable: price            AIC:                744416.9518\nDate:               2022-10-16 20:26 BIC:                744486.3317\nNo. Observations:   43152            Log-Likelihood:     -3.7220e+05\nDf Model:           7                F-statistic:        4.758e+04  \nDf Residuals:       43144            Prob (F-statistic): 0.00       \nR-squared:          0.885            Scale:              1.8175e+06 \n---------------------------------------------------------------------\n         Coef.     Std.Err.     t      P>|t|     [0.025      0.975]  \n---------------------------------------------------------------------\nconst   3928.6813    6.4899  605.3528  0.0000   3915.9610   3941.4016\nx1      5259.0042   31.0446  169.4016  0.0000   5198.1562   5319.8522\nx2        76.7155    6.6560   11.5258  0.0000     63.6697     89.7613\nx3      -455.4584    6.8099  -66.8820  0.0000   -468.8059   -442.1109\nx4       491.4681    6.7020   73.3318  0.0000    478.3321    504.6041\nx5      -226.2530    7.1239  -31.7598  0.0000   -240.2159   -212.2900\nx6      -213.6785    6.9857  -30.5879  0.0000   -227.3706   -199.9864\nx7     -1340.6484   30.9523  -43.3134  0.0000  -1401.3155  -1279.9813\n--------------------------------------------------------------------\nOmnibus:            11265.398      Durbin-Watson:         1.999     \nProb(Omnibus):      0.000          Jarque-Bera (JB):      360683.897\nSkew:               0.610          Prob(JB):              0.000     \nKurtosis:           17.111         Condition No.:         10        \n====================================================================\n\n\"\"\"",
      "text/html": "<table class=\"simpletable\">\n<tr>\n        <td>Model:</td>               <td>OLS</td>         <td>Adj. R-squared:</td>      <td>0.885</td>   \n</tr>\n<tr>\n  <td>Dependent Variable:</td>       <td>price</td>             <td>AIC:</td>         <td>744416.9518</td>\n</tr>\n<tr>\n         <td>Date:</td>        <td>2022-10-16 20:26</td>        <td>BIC:</td>         <td>744486.3317</td>\n</tr>\n<tr>\n   <td>No. Observations:</td>        <td>43152</td>        <td>Log-Likelihood:</td>   <td>-3.7220e+05</td>\n</tr>\n<tr>\n       <td>Df Model:</td>              <td>7</td>           <td>F-statistic:</td>      <td>4.758e+04</td> \n</tr>\n<tr>\n     <td>Df Residuals:</td>          <td>43144</td>      <td>Prob (F-statistic):</td>    <td>0.00</td>    \n</tr>\n<tr>\n      <td>R-squared:</td>            <td>0.885</td>            <td>Scale:</td>        <td>1.8175e+06</td> \n</tr>\n</table>\n<table class=\"simpletable\">\n<tr>\n    <td></td>       <th>Coef.</th>   <th>Std.Err.</th>     <th>t</th>     <th>P>|t|</th>   <th>[0.025</th>     <th>0.975]</th>  \n</tr>\n<tr>\n  <th>const</th>  <td>3928.6813</td>  <td>6.4899</td>  <td>605.3528</td> <td>0.0000</td>  <td>3915.9610</td>  <td>3941.4016</td>\n</tr>\n<tr>\n  <th>x1</th>     <td>5259.0042</td>  <td>31.0446</td> <td>169.4016</td> <td>0.0000</td>  <td>5198.1562</td>  <td>5319.8522</td>\n</tr>\n<tr>\n  <th>x2</th>      <td>76.7155</td>   <td>6.6560</td>   <td>11.5258</td> <td>0.0000</td>   <td>63.6697</td>    <td>89.7613</td> \n</tr>\n<tr>\n  <th>x3</th>     <td>-455.4584</td>  <td>6.8099</td>  <td>-66.8820</td> <td>0.0000</td>  <td>-468.8059</td>  <td>-442.1109</td>\n</tr>\n<tr>\n  <th>x4</th>     <td>491.4681</td>   <td>6.7020</td>   <td>73.3318</td> <td>0.0000</td>  <td>478.3321</td>   <td>504.6041</td> \n</tr>\n<tr>\n  <th>x5</th>     <td>-226.2530</td>  <td>7.1239</td>  <td>-31.7598</td> <td>0.0000</td>  <td>-240.2159</td>  <td>-212.2900</td>\n</tr>\n<tr>\n  <th>x6</th>     <td>-213.6785</td>  <td>6.9857</td>  <td>-30.5879</td> <td>0.0000</td>  <td>-227.3706</td>  <td>-199.9864</td>\n</tr>\n<tr>\n  <th>x7</th>    <td>-1340.6484</td>  <td>30.9523</td> <td>-43.3134</td> <td>0.0000</td> <td>-1401.3155</td> <td>-1279.9813</td>\n</tr>\n</table>\n<table class=\"simpletable\">\n<tr>\n     <td>Omnibus:</td>    <td>11265.398</td>  <td>Durbin-Watson:</td>      <td>1.999</td>  \n</tr>\n<tr>\n  <td>Prob(Omnibus):</td>   <td>0.000</td>   <td>Jarque-Bera (JB):</td> <td>360683.897</td>\n</tr>\n<tr>\n       <td>Skew:</td>       <td>0.610</td>       <td>Prob(JB):</td>        <td>0.000</td>  \n</tr>\n<tr>\n     <td>Kurtosis:</td>    <td>17.111</td>    <td>Condition No.:</td>       <td>10</td>    \n</tr>\n</table>"
     },
     "execution_count": 197,
     "metadata": {},
     "output_type": "execute_result"
    }
   ],
   "source": [
    "features = list(X_train.columns)\n",
    "while len(features) > 0:\n",
    "    X_train_model = X_train[features]\n",
    "    X_train_model = scaler.fit_transform(X_train_model)\n",
    "    X_train_model = sm.add_constant(X_train_model)\n",
    "    model = sm.OLS(y_train, X_train_model)\n",
    "    results = model.fit()\n",
    "    p_values = results.pvalues\n",
    "    max_p_value = np.max(p_values)\n",
    "    max_index = np.argmax(p_values)\n",
    "    if max_p_value > 0.05:\n",
    "        features.remove(X_train.columns[max_index - 1])\n",
    "    else:\n",
    "        break\n",
    "print('Significant features: ', features)\n",
    "results.summary2()\n",
    "#╰( ͡° ͜ʖ ͡° )つ──☆*:・ﾟ"
   ]
  },
  {
   "cell_type": "markdown",
   "source": [
    "Выводы:\n",
    "1) Незначимыми являются параметры y и z.\n",
    "2) Значение F-статистики после elimination стало больше, следовательно,\n",
    "модель линейной регрессии после elimination стала значимее."
   ],
   "metadata": {
    "collapsed": false,
    "pycharm": {
     "name": "#%% md\n"
    }
   }
  },
  {
   "cell_type": "markdown",
   "metadata": {},
   "source": [
    "#### 5. [1 point] Find the best (in terms of RMSE) $\\alpha$ for Lasso regression using cross-validation with 4 folds. You must select values from range $[10^{-4}, 10^{3}]$."
   ]
  },
  {
   "cell_type": "code",
   "execution_count": 198,
   "metadata": {},
   "outputs": [
    {
     "name": "stdout",
     "output_type": "stream",
     "text": [
      "Best alpha -  2.682695795279722\n"
     ]
    }
   ],
   "source": [
    "lasso = Lasso(alpha=0.01)\n",
    "alphas = np.logspace(-4, 3)\n",
    "model = GridSearchCV(lasso, {'alpha':alphas}, scoring='neg_mean_squared_error', cv=4)\n",
    "model.fit(X_train_scaled, y_train)\n",
    "print('Best alpha - ', model.best_params_['alpha'])\n",
    "#╰( ͡° ͜ʖ ͡° )つ──☆*:・ﾟ"
   ]
  },
  {
   "cell_type": "markdown",
   "metadata": {},
   "source": [
    "## Gradient descent\n",
    "\n",
    "#### 6. [3.5 points] Implement a Ridge regression model for the MSE loss function, trained by gradient descent.\n",
    "\n",
    "All calculations must be vectorized, and python loops can only be used for gradient descent iterations. As a stop criterion, you must use (simultaneously):\n",
    "\n",
    "* checking for the Absolute-value norm of the weight difference on two adjacent iterations (for example, less than some small number of the order of $10^{-6}$, set by the `tolerance` parameter);\n",
    "* reaching the maximum number of iterations (for example, 10000, set by the `max_iter` parameter).\n",
    "\n",
    "You need to implement:\n",
    "\n",
    "* Full gradient descent:\n",
    "\n",
    "$$\n",
    "w_{k + 1} = w_{k} - \\eta_{k} \\nabla_{w} Q(w_{k}).\n",
    "$$\n",
    "\n",
    "* Stochastic Gradient Descent:\n",
    "\n",
    "$$\n",
    "w_{k + 1} = w_{k} - \\eta_{k} \\nabla_{w} q_{i_{k}}(w_{k}).\n",
    "$$\n",
    "\n",
    "$\\nabla_{w} q_{i_{k}}(w_{k}) \\, $ is the estimate of the gradient over the batch of objects selected randomly.\n",
    "\n",
    "* Momentum method:\n",
    "\n",
    "$$\n",
    "h_0 = 0, \\\\\n",
    "h_{k + 1} = \\alpha h_{k} + \\eta_k \\nabla_{w} Q(w_{k}), \\\\\n",
    "w_{k + 1} = w_{k} - h_{k + 1}.\n",
    "$$\n",
    "\n",
    "* Adagrad method:\n",
    "\n",
    "$$\n",
    "G_0 = 0, \\\\\n",
    "G_{k + 1} = G_{k} + (\\nabla_{w} Q(w_{k+1}))^2, \\\\\n",
    "w_{k + 1} = w_{k} - \\eta * \\frac{\\nabla_{w} Q(w_{k+1})}{\\sqrt{G_{k+1} + \\epsilon}}.\n",
    "$$\n",
    "\n",
    "\n",
    "\n",
    "To make sure that the optimization process really converges, we will use the `loss_history` class attribute. After calling the `fit` method, it should contain the values of the loss function for all iterations, starting from the first one (before the first step on the anti-gradient).\n",
    "\n",
    "You need to initialize the weights with a random vector from normal distribution. The following is a template class that needs to contain the code implementing all variations of the models.\n"
   ]
  },
  {
   "cell_type": "code",
   "execution_count": 199,
   "metadata": {},
   "outputs": [],
   "source": [
    "from sklearn.base import BaseEstimator\n",
    "\n",
    "class LinReg(BaseEstimator):\n",
    "    def __init__(self, delta=0.4, gd_type='Momentum',\n",
    "                 tolerance=1e-4, max_iter=1000, w0=None, eta=1e-2, alpha=1e-3, epsilon = 1e-8, reg_cf = 1e-2 ):\n",
    "        \"\"\"\n",
    "        gd_type: str\n",
    "            'GradientDescent', 'StochasticDescent', 'Momentum', 'Adagrad'\n",
    "        delta: float\n",
    "            proportion of object in a batch (for stochastic GD)\n",
    "        tolerance: float\n",
    "            for stopping gradient descent\n",
    "        max_iter: int\n",
    "            maximum number of steps in gradient descent\n",
    "        w0: np.array of shape (d)\n",
    "            init weights\n",
    "        eta: float\n",
    "            learning rate\n",
    "        alpha: float\n",
    "            momentum coefficient\n",
    "        reg_cf: float\n",
    "            regularization coefficient\n",
    "        epsilon: float\n",
    "            numerical stability\n",
    "        \"\"\"\n",
    "        self.epsilon = epsilon\n",
    "        self.delta = delta\n",
    "        self.gd_type = gd_type\n",
    "        self.tolerance = tolerance\n",
    "        self.max_iter = max_iter\n",
    "        self.w0 = w0\n",
    "        self.alpha = alpha\n",
    "        self.w = None\n",
    "        self.eta = eta\n",
    "        self.reg_cf = reg_cf\n",
    "        self.loss_history = None # list of loss function values at each training iteration\n",
    "\n",
    "    def full_gradient_descent(self, X, y):\n",
    "        iterations = 0\n",
    "        self.w = self.w0.copy()\n",
    "        w_prev = self.w0.copy()\n",
    "        while iterations < self.max_iter and (np.linalg.norm(self.w - w_prev) - self.tolerance >= 0 or iterations == 0):\n",
    "            iterations += 1\n",
    "            w_prev = self.w.copy()\n",
    "            gradient = self.calc_gradient(X, y)\n",
    "            self.w -= self.eta * gradient\n",
    "            self.loss_history.append(self.calc_loss(X, y))\n",
    "\n",
    "    def stochastic_gradient_descent(self, X, y):\n",
    "        iterations = 0\n",
    "        self.w = self.w0.copy()\n",
    "        w_prev = self.w0.copy()\n",
    "        batch_size = int(self.delta * X.shape[0])\n",
    "        while iterations < self.max_iter and (np.linalg.norm(self.w - w_prev) - self.tolerance >= 0 or iterations == 0):\n",
    "            sample = np.random.randint(y.shape[0], size=batch_size)\n",
    "            iterations += 1\n",
    "            w_prev = self.w\n",
    "            f = X[sample, :].dot(self.w)\n",
    "            error = f - y.iloc[sample]\n",
    "            gradient = (2 * X[sample, :].T.dot(error) + 2 * self.reg_cf * self.w) / batch_size\n",
    "            self.w -= self.eta * gradient\n",
    "            self.loss_history.append(self.calc_loss(X, y))\n",
    "\n",
    "    def momentum(self, X, y):\n",
    "        iterations = 0\n",
    "        self.w = self.w0.copy()\n",
    "        w_prev = self.w0.copy()\n",
    "        h = np.zeros(self.w.shape[0])\n",
    "        while iterations < self.max_iter and (np.linalg.norm(self.w - w_prev) - self.tolerance >= 0 or iterations == 0):\n",
    "            iterations += 1\n",
    "            w_prev = self.w\n",
    "            gradient = self.calc_gradient(X, y)\n",
    "            h = self.alpha * h + self.eta * gradient\n",
    "            self.w = self.w - h\n",
    "            self.loss_history.append(self.calc_loss(X, y))\n",
    "\n",
    "\n",
    "    def adagrad(self, X, y):\n",
    "        iterations = 0\n",
    "        self.w = self.w0.copy()\n",
    "        w_prev = self.w0.copy()\n",
    "        G = np.zeros(self.w.shape[0])\n",
    "        while iterations < self.max_iter and (np.linalg.norm(self.w - w_prev) - self.tolerance >= 0 or iterations == 0):\n",
    "            iterations += 1\n",
    "            w_prev = self.w\n",
    "            gradient = self.calc_gradient(X, y)\n",
    "            G += np.square(gradient)\n",
    "            self.w = self.w - (self.eta / np.sqrt(G + self.epsilon) * gradient)\n",
    "            self.loss_history.append(self.calc_loss(X, y))\n",
    "\n",
    "    def fit(self, X, y):\n",
    "        \"\"\"\n",
    "        X: np.array of shape (l, d)\n",
    "        y: np.array of shape (l)\n",
    "        ---\n",
    "        output: self\n",
    "        \"\"\"\n",
    "        self.loss_history = []\n",
    "        self.w0 = np.random.normal(0, 1, X.shape[1])\n",
    "        if self.gd_type == 'GradientDescent':\n",
    "            self.full_gradient_descent(X, y)\n",
    "        if self.gd_type == 'StochasticDescent':\n",
    "            self.stochastic_gradient_descent(X, y)\n",
    "        if self.gd_type == 'Momentum':\n",
    "            self.momentum(X, y)\n",
    "        if self.gd_type == 'Adagrad':\n",
    "            self.adagrad(X, y)\n",
    "        return self\n",
    "\n",
    "\n",
    "    def predict(self, X):\n",
    "        if self.w is None:\n",
    "            raise Exception('Not trained yet')\n",
    "        return X.dot(self.w)\n",
    "    \n",
    "    def calc_gradient(self, X, y):\n",
    "        \"\"\"\n",
    "        X: np.array of shape (l, d) (l can be equal to 1 if stochastic)\n",
    "        y: np.array of shape (l)\n",
    "        ---\n",
    "        output: np.array of shape (d)\n",
    "        \"\"\"\n",
    "        f = X.dot(self.w)\n",
    "        error = f - y\n",
    "        gradient = (2 * X.T.dot(error) + 2 * self.reg_cf * self.w) / y.shape[0]\n",
    "        return gradient\n",
    "\n",
    "    def calc_loss(self, X, y):\n",
    "        \"\"\"\n",
    "        X: np.array of shape (l, d)\n",
    "        y: np.array of shape (l)\n",
    "        ---\n",
    "        output: float \n",
    "        \"\"\"\n",
    "        return ((X.dot(self.w) - y).T.dot(X.dot(self.w) - y) +\n",
    "                self.reg_cf * np.sum(pow(self.w, 2)))/X.shape[0]\n",
    "        pass"
   ]
  },
  {
   "cell_type": "markdown",
   "metadata": {},
   "source": [
    "#### 7. [1 points] Train and validate \"hand-written\" models on the same data, and compare the quality with the Sklearn or StatsModels methods. Investigate the effect of the `max_iter` and `alpha` parameters on the optimization process. Is it consistent with your expectations?"
   ]
  },
  {
   "cell_type": "code",
   "execution_count": 200,
   "metadata": {},
   "outputs": [
    {
     "name": "stdout",
     "output_type": "stream",
     "text": [
      "Momentum\n",
      "Train RMSE = 1418.1162\n",
      "Test RMSE = 1433.9168\n",
      "Train R2 = 0.8731\n",
      "Test R2 = 0.8730\n",
      "Predicted coefficients\n",
      "[3928.68037249 3152.61212376   87.40254009 -405.72489451  516.52011589\n",
      " -116.43465276 -198.72674328  517.30420985  148.40041029   69.40691828]\n"
     ]
    }
   ],
   "source": [
    "linreg = LinReg()\n",
    "linreg.fit(X_train_scaled, y_train)\n",
    "momentum_loss_history = linreg.loss_history\n",
    "y_pred = linreg.predict(X_train_scaled)\n",
    "y_test_pred = linreg.predict(X_test_scaled)\n",
    "print('Momentum')\n",
    "print(\"Train RMSE = %.4f\" % mean_squared_error(y_train, y_pred, squared=False))\n",
    "print(\"Test RMSE = %.4f\" % mean_squared_error(y_test, y_test_pred, squared=False))\n",
    "print(\"Train R2 = %.4f\" % r2_score(y_train, y_pred))\n",
    "print(\"Test R2 = %.4f\" % r2_score(y_test, y_test_pred))\n",
    "print('Predicted coefficients')\n",
    "print(linreg.w)"
   ]
  },
  {
   "cell_type": "code",
   "execution_count": 201,
   "outputs": [
    {
     "name": "stdout",
     "output_type": "stream",
     "text": [
      "Gradient descent\n",
      "Train RMSE = 1418.1781\n",
      "Test RMSE = 1433.9839\n",
      "Train R2 = 0.8731\n",
      "Test R2 = 0.8730\n",
      "Predicted coefficients\n",
      "[3928.68037235 3151.68454825   87.39894107 -405.69622458  516.52406867\n",
      " -116.41033836 -198.70210263  516.6502787   149.66320111   69.72192029]\n"
     ]
    }
   ],
   "source": [
    "linreg = LinReg(gd_type='GradientDescent')\n",
    "linreg.fit(X_train_scaled, y_train)\n",
    "gradient_descent_loss_history = linreg.loss_history\n",
    "y_pred = linreg.predict(X_train_scaled)\n",
    "y_test_pred = linreg.predict(X_test_scaled)\n",
    "print('Gradient descent')\n",
    "print(\"Train RMSE = %.4f\" % mean_squared_error(y_train, y_pred, squared=False))\n",
    "print(\"Test RMSE = %.4f\" % mean_squared_error(y_test, y_test_pred, squared=False))\n",
    "print(\"Train R2 = %.4f\" % r2_score(y_train, y_pred))\n",
    "print(\"Test R2 = %.4f\" % r2_score(y_test, y_test_pred))\n",
    "print('Predicted coefficients')\n",
    "print(linreg.w)\n",
    "#╰( ͡° ͜ʖ ͡° )つ──☆*:・ﾟ"
   ],
   "metadata": {
    "collapsed": false,
    "pycharm": {
     "name": "#%%\n"
    }
   }
  },
  {
   "cell_type": "code",
   "execution_count": 202,
   "outputs": [
    {
     "name": "stdout",
     "output_type": "stream",
     "text": [
      "Stochastic descent\n",
      "Train RMSE = 1418.3055\n",
      "Test RMSE = 1434.1346\n",
      "Train R2 = 0.8731\n",
      "Test R2 = 0.8730\n",
      "Predicted coefficients\n",
      "[3929.14168009 3150.87678481   86.80801541 -405.95012177  516.10419625\n",
      " -116.09678976 -198.74264534  516.68709841  156.13231985   68.21774649]\n"
     ]
    }
   ],
   "source": [
    "linreg = LinReg(gd_type='StochasticDescent', tolerance=1e-100000)\n",
    "linreg.fit(X_train_scaled, y_train)\n",
    "stochastic_descent_loss_history = linreg.loss_history\n",
    "y_pred = linreg.predict(X_train_scaled)\n",
    "y_test_pred = linreg.predict(X_test_scaled)\n",
    "print('Stochastic descent')\n",
    "print(\"Train RMSE = %.4f\" % mean_squared_error(y_train, y_pred, squared=False))\n",
    "print(\"Test RMSE = %.4f\" % mean_squared_error(y_test, y_test_pred, squared=False))\n",
    "print(\"Train R2 = %.4f\" % r2_score(y_train, y_pred))\n",
    "print(\"Test R2 = %.4f\" % r2_score(y_test, y_test_pred))\n",
    "print('Predicted coefficients')\n",
    "print(linreg.w)"
   ],
   "metadata": {
    "collapsed": false,
    "pycharm": {
     "name": "#%%\n"
    }
   }
  },
  {
   "cell_type": "code",
   "execution_count": 203,
   "outputs": [
    {
     "name": "stdout",
     "output_type": "stream",
     "text": [
      "Best eta for adagrad -  {'eta': 1526.4179671752333}\n"
     ]
    }
   ],
   "source": [
    "grid_search = GridSearchCV(LinReg(gd_type='Adagrad'), {'eta' : np.logspace(2, 4)},\n",
    "                           cv = 4, scoring='neg_root_mean_squared_error')\n",
    "grid_search.fit(X_train_scaled, y_train)\n",
    "best_eta = grid_search.best_params_\n",
    "print('Best eta for adagrad - ', best_eta)"
   ],
   "metadata": {
    "collapsed": false,
    "pycharm": {
     "name": "#%%\n"
    }
   }
  },
  {
   "cell_type": "code",
   "execution_count": 205,
   "outputs": [
    {
     "name": "stdout",
     "output_type": "stream",
     "text": [
      "Adagrad\n",
      "Train RMSE = 1348.0143\n",
      "Test RMSE = 1370.3796\n",
      "Train R2 = 0.8853\n",
      "Test R2 = 0.8840\n",
      "Predicted coefficients\n",
      "[ 3928.68037897  5234.21544414    76.76673304  -455.07401451\n",
      "   491.87031492  -223.04800188  -213.47208723 -1327.31764988\n",
      "    25.82704136   -13.98538358]\n"
     ]
    }
   ],
   "source": [
    "linreg = LinReg(gd_type='Adagrad', eta=1526.4179671752333)\n",
    "linreg.fit(X_train_scaled, y_train)\n",
    "adagrad_loss_history = linreg.loss_history\n",
    "y_pred = linreg.predict(X_train_scaled)\n",
    "y_test_pred = linreg.predict(X_test_scaled)\n",
    "print('Adagrad')\n",
    "print(\"Train RMSE = %.4f\" % mean_squared_error(y_train, y_pred, squared=False))\n",
    "print(\"Test RMSE = %.4f\" % mean_squared_error(y_test, y_test_pred, squared=False))\n",
    "print(\"Train R2 = %.4f\" % r2_score(y_train, y_pred))\n",
    "print(\"Test R2 = %.4f\" % r2_score(y_test, y_test_pred))\n",
    "print('Predicted coefficients')\n",
    "print(linreg.w)"
   ],
   "metadata": {
    "collapsed": false,
    "pycharm": {
     "name": "#%%\n"
    }
   }
  },
  {
   "cell_type": "code",
   "execution_count": 206,
   "outputs": [
    {
     "name": "stdout",
     "output_type": "stream",
     "text": [
      "Train RMSE = 1347.9933\n",
      "Test RMSE = 1370.5905\n",
      "Train R2 = 0.8853\n",
      "Test R2 = 0.8840\n"
     ]
    }
   ],
   "source": [
    "model = Ridge(alpha=0.01)\n",
    "model.fit(X_train_scaled, y_train)\n",
    "y_pred_ridge = model.predict(X_test_scaled)\n",
    "y_train_pred_ridge = model.predict(X_train_scaled)\n",
    "\n",
    "print(\"Train RMSE = %.4f\" % mean_squared_error(y_train, y_train_pred_ridge, squared=False))\n",
    "print(\"Test RMSE = %.4f\" % mean_squared_error(y_test, y_pred_ridge, squared=False))\n",
    "print(\"Train R2 = %.4f\" % r2_score(y_train, y_train_pred_ridge))\n",
    "print(\"Test R2 = %.4f\" % r2_score(y_test, y_pred_ridge))"
   ],
   "metadata": {
    "collapsed": false,
    "pycharm": {
     "name": "#%%\n"
    }
   }
  },
  {
   "cell_type": "markdown",
   "source": [
    "Выводы:\n",
    "1) При tolerance, равном 1e-4, алгоритм стохастического градиентного спуска очень\n",
    "быстро заканчивается, так как выход из цикла происходит после одной итерации. Качество\n",
    "обучения при этом низкое, поэтому можно уменьшить параметр tolerance и сделать его,\n",
    "например, 1e-10. В этом случае качество модели становится лучше.\n",
    "2) При eta = 0.01 и обучении алгоритмом adagrad функция ошибки убывает очень медленно\n",
    "в силу деления eta на каждой итерации. Эту проблему удалось решить, увеличив learning\n",
    "rate. Как и ожидалось, качество модели стало намного лучше.\n",
    "3) Также при увеличении max_iter качество модели улучшается, однако алгоритм дольше работает.\n",
    "4) Наиболее точной моделью, судя по параметру R^2, является модель Ridge из sklearn,\n",
    "ее R^2 ближе всех к единице. (При дефолтных параметрах)\n",
    "5) По параметрам RMSE также лучшей является модель Ridge из sklearn, у нее наименьшее RMSE.\n",
    "6) При дефолтных параметрах R^2 для модели, обученной алгоритмами adagrad и stochastic\n",
    "gradient descent, отрицательный, именно поэтому необходимы изменения параметров, описанные\n",
    "в пунктах 1 и 2."
   ],
   "metadata": {
    "collapsed": false,
    "pycharm": {
     "name": "#%% md\n"
    }
   }
  },
  {
   "cell_type": "markdown",
   "metadata": {},
   "source": [
    "#### 8. [1 points] Plot graphs (on the same picture) of the dependence of the loss function value on the iteration number for Full GD, SGD, Momentum and Adagrad. Draw conclusions about the rate of convergence of various modifications of gradient descent.\n",
    "\n",
    "Don't forget about what *beautiful* graphics should look like!"
   ]
  },
  {
   "cell_type": "code",
   "execution_count": 207,
   "metadata": {},
   "outputs": [
    {
     "data": {
      "text/plain": "Text(0, 0.5, 'Loss function value')"
     },
     "execution_count": 207,
     "metadata": {},
     "output_type": "execute_result"
    },
    {
     "data": {
      "text/plain": "<Figure size 640x480 with 1 Axes>",
      "image/png": "[encoded data removed]"
     },
     "metadata": {},
     "output_type": "display_data"
    }
   ],
   "source": [
    "count = len(momentum_loss_history)\n",
    "list_of_indexes = np.arange(count)\n",
    "plt.plot(list_of_indexes, momentum_loss_history)\n",
    "count = len(gradient_descent_loss_history)\n",
    "list_of_indexes = np.arange(count)\n",
    "plt.plot(list_of_indexes, gradient_descent_loss_history)\n",
    "count = len(stochastic_descent_loss_history)\n",
    "list_of_indexes = np.arange(count)\n",
    "plt.plot(list_of_indexes, stochastic_descent_loss_history)\n",
    "count = len(adagrad_loss_history)\n",
    "list_of_indexes = np.arange(count)\n",
    "plt.plot(list_of_indexes, adagrad_loss_history)\n",
    "plt.title('Dependence of loss function and iteration number')\n",
    "plt.legend(['Momentum', 'Full gradient descent', 'Stochastic descent', 'Adagrad'])\n",
    "plt.xlabel('Number of iteration')\n",
    "plt.ylabel('Loss function value')\n",
    "#╰( ͡° ͜ʖ ͡° )つ──☆*:・ﾟ"
   ]
  },
  {
   "cell_type": "markdown",
   "metadata": {
    "pycharm": {
     "name": "#%% md\n"
    }
   },
   "source": [
    "1) С каждой новой итерацией значение функции потерь для моделей, обученных\n",
    "методами полного, стохастического градиентного спуска и методом momentum, при\n",
    "learning rate = 0.01 становится меньше. График зависимости довольно быстро убывает.\n",
    "Менее чем за 100 итераций значение функции потерь сильно падает. По графику явно заметно,\n",
    "что значения функции сходятся к какому-то минимуму.\n",
    "2) В отличие от других графиков, график зависимости значения функции потерь от номера\n",
    "итерации для модели, обученной методом adagrad при заданном learning rate = 0.01 убывает очень медленно,\n",
    "и за большое количество итераций не сходится к конкретному значению минимума. Поэтому было принято решение\n",
    "увеличить learning rate, а для поиска наиболее оптимального learning rate была использована\n",
    "кросс-валидация. Благодаря этому, график зависимости значения функции ошибки от номера итерации убывает\n",
    "быстрее всех. Значения функции при этом сходятся примерно к тому же минимуму, что и значения функции при\n",
    "других методах обучения.\n"
   ]
  }
 ],
 "metadata": {
  "kernelspec": {
   "display_name": "Python 3 (ipykernel)",
   "language": "python",
   "name": "python3"
  },
  "language_info": {
   "codemirror_mode": {
    "name": "ipython",
    "version": 3
   },
   "file_extension": ".py",
   "mimetype": "text/x-python",
   "name": "python",
   "nbconvert_exporter": "python",
   "pygments_lexer": "ipython3",
   "version": "3.8.11"
  }
 },
 "nbformat": 4,
 "nbformat_minor": 2
}