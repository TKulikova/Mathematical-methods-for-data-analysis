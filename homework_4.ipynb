{
 "cells": [
  {
   "cell_type": "markdown",
   "metadata": {},
   "source": [
    "# HSE 2021: Mathematical Methods for Data Analysis\n",
    "\n",
    "## Homework 4\n",
    "\n",
    "**Warning 1**: You have 2 weeks for this assignemnt.  **it is better to start early (!)**\n",
    "\n",
    "**Warning 2**: it is critical to describe and explain what you are doing and why, use markdown cells\n",
    "\n",
    "\n",
    "### Contents\n",
    "\n",
    "#### Decision Trees - 7 points\n",
    "* [Task 1](#task1) (0.5 points)\n",
    "* [Task 2](#task2) (0.5 points)\n",
    "* [Task 3](#task3) (2 points)\n",
    "* [Task 4](#task4) (0.5 points)\n",
    "* [Task 5](#task5) (0.5 points)\n",
    "* [Task 6](#task6) (2 points)\n",
    "* [Task 7](#task7) (0.5 points)\n",
    "* [Task 8](#task8) (0.5 points)\n",
    "\n",
    "#### Ensembles - 3 points\n",
    "* [Task 1](#task2_1) (1 point)\n",
    "* [Task 2](#task2_2) (0.7 points)\n",
    "* [Task 3](#task2_3) (0.5 points)\n",
    "* [Task 4](#task2_4) (0.7 points)\n",
    "* [Task 5](#task2_5) (0.1 points)"
   ]
  },
  {
   "cell_type": "code",
   "execution_count": 3,
   "metadata": {},
   "outputs": [],
   "source": [
    "import warnings\n",
    "import matplotlib.pyplot as plt\n",
    "import numpy as np\n",
    "import pandas as pd\n",
    "from sklearn.metrics import f1_score, r2_score\n",
    "from statsmodels.tools.eval_measures import rmse\n",
    "warnings.filterwarnings('ignore')\n",
    "\n",
    "plt.rcParams['figure.figsize'] = (11, 5)\n",
    "%matplotlib inline"
   ]
  },
  {
   "cell_type": "markdown",
   "metadata": {},
   "source": [
    "# Part 1. Decision Tree Regressor"
   ]
  },
  {
   "cell_type": "markdown",
   "metadata": {},
   "source": [
    "In this task you will be implementing decision tree for the regression by hand. "
   ]
  },
  {
   "cell_type": "markdown",
   "metadata": {},
   "source": [
    "### Task 1 <a id=\"task1\"></a> (0.5 points)\n",
    "\n",
    "Here you should implement the function `H()` which calculates impurity criterion. We will be training regression tree, and will take mean absolute deviation as impurity criterion.\n",
    "\n",
    "* You cannot use loops\n",
    "* If `y` is empty, the function should return 0"
   ]
  },
  {
   "cell_type": "code",
   "execution_count": 2,
   "metadata": {},
   "outputs": [],
   "source": [
    "def H(y):\n",
    "    \"\"\"\n",
    "    Calculate impurity criterion\n",
    "    \n",
    "    Parameters\n",
    "    ----------\n",
    "    y : np.array\n",
    "        array of objects target values in the node\n",
    "\n",
    "    Returns\n",
    "    -------\n",
    "    H(R) : float\n",
    "        Impurity in the node (measuread by variance)\n",
    "    \"\"\"\n",
    "    if len(y) == 0:\n",
    "        return 0.0\n",
    "\n",
    "    mean = sum(y) / len(y)\n",
    "    impurity = np.sum(np.abs(y - mean)) / len(y)\n",
    "    return impurity"
   ]
  },
  {
   "cell_type": "code",
   "execution_count": 3,
   "metadata": {},
   "outputs": [],
   "source": [
    "# Test the function\n",
    "assert np.allclose(H(np.array([4, 2, 2, 2])), 0.75)\n",
    "assert np.allclose(H(np.array([])), 0.0)"
   ]
  },
  {
   "cell_type": "markdown",
   "metadata": {},
   "source": [
    "### Task 2 <a id=\"task2\"></a>  (0.5 points)\n",
    "\n",
    "To find the best split in the node we need to calculate the cost function. Denote: \n",
    "- `R` all the object in the node\n",
    "- `j` index of the feature selected for the split\n",
    "- `t` threshold\n",
    "- `R_l` and `R_r` objects in the left and right child nodes correspondingly\n",
    "\n",
    "We get the following cost function:\n",
    "\n",
    "$$\n",
    "Q(R, j, t) =\\frac{|R_\\ell|}{|R|}H(R_\\ell) + \\frac{|R_r|}{|R|}H(R_r) \\to \\min_{j, t},\n",
    "$$\n",
    "\n",
    "Implement the function `Q`, which should calculate value of the cost function for a given feature and threshold."
   ]
  },
  {
   "cell_type": "code",
   "execution_count": 4,
   "metadata": {},
   "outputs": [],
   "source": [
    "def Q(X, y, j, t):\n",
    "    \"\"\"\n",
    "    Calculate cost function\n",
    "    Parameters\n",
    "    ----------\n",
    "    X : ndarray\n",
    "        array of objects in the node \n",
    "    y : ndarray\n",
    "        array of target values in the node \n",
    "    j : int\n",
    "        feature index (column in X)\n",
    "    t : float\n",
    "        threshold\n",
    "\n",
    "    Returns\n",
    "    -------\n",
    "    Q : float\n",
    "        Value of the cost function\n",
    "    \"\"\"   \n",
    "    R = X[:, j]\n",
    "    y_l = y[R <= t]\n",
    "    y_r = y[R > t]\n",
    "    impurity_left = H(y_l)\n",
    "    impurity_right = H(y_r)\n",
    "    Q = impurity_left * len(y_l) / len(y)  + \\\n",
    "        impurity_right * len(y_r) / len(y)\n",
    "    return Q"
   ]
  },
  {
   "cell_type": "markdown",
   "metadata": {},
   "source": [
    "### Task 3 <a id=\"task3\"></a>  (2 points)\n",
    "\n",
    "Now, let's implement `MyDecisionTreeRegressor` class. More specifically, you need to implement the following methods:\n",
    "\n",
    "- `best_split`\n",
    "- `grow_tree`\n",
    "- `get_prediction`\n",
    "\n",
    "Also, please add `min_samples_leaf` parameter to your class\n",
    "\n",
    "Read docstrings for more details. Do not forget to use function `Q` implemented above, when finding the `best_split`"
   ]
  },
  {
   "cell_type": "code",
   "execution_count": 5,
   "metadata": {},
   "outputs": [],
   "source": [
    "class Node(object):\n",
    "    \"\"\"\n",
    "    Class for a decision tree node.\n",
    "    \n",
    "    Parameters\n",
    "    ----------\n",
    "    right : Node() or None\n",
    "        Right child\n",
    "    right : Node() or None\n",
    "        Left child\n",
    "    threshold: float\n",
    "        \n",
    "    column: int\n",
    "        \n",
    "    depth: int\n",
    "        \n",
    "    prediction: float\n",
    "        prediction of the target value in the node \n",
    "        (average values calculated on a train dataset)\n",
    "    is_terminal:bool\n",
    "        indicates whether it is a terminal node (leaf) or not\n",
    "    \"\"\"    \n",
    "    def __init__(self):        \n",
    "        self.right = None\n",
    "        self.left = None\n",
    "        self.threshold = None\n",
    "        self.column = None\n",
    "        self.depth = None\n",
    "        self.is_terminal = False\n",
    "        self.prediction = None\n",
    "        \n",
    "    def __repr__(self):\n",
    "        if self.is_terminal:\n",
    "            node_desc = 'Pred: {:.2f}'.format(self.prediction)\n",
    "        else:\n",
    "            node_desc = 'Col {}, t {:.2f}, Pred: {:.2f}'. \\\n",
    "            format(self.column, self.threshold, self.prediction)\n",
    "        return node_desc"
   ]
  },
  {
   "cell_type": "code",
   "execution_count": 6,
   "metadata": {},
   "outputs": [],
   "source": [
    "from sklearn.base import BaseEstimator, RegressorMixin\n",
    "from sklearn.utils.validation import check_X_y, check_array, check_is_fitted\n",
    "\n",
    "class MyDecisionTreeRegressor(RegressorMixin, BaseEstimator):\n",
    "    \"\"\"\n",
    "    Class for a Decision Tree Regressor.\n",
    "\n",
    "    Parameters\n",
    "    ----------\n",
    "    max_depth : int\n",
    "        Max depth of a decision tree.\n",
    "    min_samples_split : int\n",
    "        Minimal number of samples (objects) in a node to make a split.\n",
    "    \"\"\" \n",
    "    def __init__(self, max_depth=3, min_samples_split=2, min_samples_leaf=1):\n",
    "        self.max_depth = max_depth\n",
    "        self.min_samples_split = min_samples_split\n",
    "        self.min_samples_leaf = min_samples_leaf\n",
    "\n",
    "            \n",
    "    def best_split(self, X, y):\n",
    "        \"\"\"\n",
    "        Find the best split in terms of Q of data in a given decision tree node. \n",
    "        Try all features and thresholds. \n",
    "        \n",
    "        Parameters\n",
    "        ----------\n",
    "        X : ndarray, shape (n_objects, n_features)\n",
    "            Objects in the parent node\n",
    "        y : ndarray, shape (n_objects, )\n",
    "            1D array with the object labels. \n",
    "            \n",
    "        Returns\n",
    "        -------\n",
    "        best_split_column : int\n",
    "            Index of the best split column\n",
    "        best_threshold : float\n",
    "            The best split condition.\n",
    "        X_left : ndarray, shape (n_objects_l, n_features)\n",
    "            Objects in the left child\n",
    "        y_left : ndarray, shape (n_objects_l, )\n",
    "            Objects labels in the left child. \n",
    "        X_right : ndarray, shape (n_objects_r, n_features)\n",
    "            Objects in the right child\n",
    "        y_right : ndarray, shape (n_objects_r, )\n",
    "            Objects labels in the right child. \n",
    "        \"\"\"\n",
    "        \n",
    "        # To store best split parameters\n",
    "        best_split_column = None\n",
    "        best_threshold = None\n",
    "        # without splitting\n",
    "        best_cost = H(y)\n",
    "        for feature  in range(X.shape[1]):\n",
    "            x_split_col = X[:, feature]\n",
    "            for split_threshold in range(0, len(x_split_col)):\n",
    "                curr_threshold = x_split_col[split_threshold]\n",
    "                q_cost = Q(X, y , feature, curr_threshold)\n",
    "                if best_cost > q_cost:\n",
    "                    best_threshold = curr_threshold\n",
    "                    best_split_column = feature\n",
    "                    best_cost = q_cost\n",
    "\n",
    "        if best_cost == H(y):\n",
    "            return None, None, None, None, None, None\n",
    "        x_column = X[:, best_split_column]\n",
    "        x_left = X[x_column <= best_threshold, :]\n",
    "        y_left = y[x_column <= best_threshold]\n",
    "        x_right = X[x_column > best_threshold, :]\n",
    "        y_right = y[x_column > best_threshold]\n",
    "        return best_split_column, best_threshold, x_left, y_left, x_right, y_right\n",
    "    \n",
    "    def is_terminal(self, node, y):\n",
    "        \"\"\"\n",
    "        Check terminality conditions based on `max_depth`, \n",
    "        `min_samples_split` parameters for a given node. \n",
    "        \n",
    "        Parameters\n",
    "        ----------\n",
    "        node : Node, \n",
    "            \n",
    "        y : ndarray, shape (n_objects, )\n",
    "            Object labels. \n",
    "            \n",
    "        Returns\n",
    "        -------\n",
    "        Is_termial : bool\n",
    "            If True, node is terminal\n",
    "        \"\"\"\n",
    "        if node.depth >= self.max_depth:    \n",
    "            return True\n",
    "        if len(y) < self.min_samples_split:   \n",
    "            return True\n",
    "        return False\n",
    "        \n",
    "    def grow_tree(self, node, X, y):\n",
    "        \"\"\"\n",
    "        Reccurently grow the tree from the `node` using a `X` and `y` as a dataset:\n",
    "         - check terminality conditions\n",
    "         - find best split if node is not terminal\n",
    "         - add child nodes to the node\n",
    "         - call the function recursively for the added child nodes\n",
    "        \n",
    "        Parameters\n",
    "        ----------\n",
    "        node : Node() object\n",
    "            Current node of the decision tree.\n",
    "        X : ndarray, shape (n_objects, n_features)\n",
    "            Objects \n",
    "        y : ndarray, shape (n_objects)\n",
    "            Labels\n",
    "        \"\"\"\n",
    "        \n",
    "        if self.is_terminal(node, y):\n",
    "            node.is_terminal = True\n",
    "            return\n",
    "\n",
    "\n",
    "        best_split_column, best_threshold, x_left, y_left, x_right, y_right = self.best_split(X, y)\n",
    "\n",
    "        if best_split_column is None:\n",
    "            node.is_terminal = True\n",
    "            return\n",
    "\n",
    "        if len(x_left) < self.min_samples_leaf or len(x_right) < self.min_samples_leaf:  # min_samples_leaf check\n",
    "            node.is_terminal = True\n",
    "            return\n",
    "\n",
    "        node.column = best_split_column\n",
    "        node.threshold = best_threshold\n",
    "\n",
    "        node.left = Node()\n",
    "        node.left.depth = node.depth + 1\n",
    "        node.left.prediction = np.mean(y_left)\n",
    "\n",
    "        node.right = Node()\n",
    "        node.right.depth = node.depth + 1\n",
    "        node.right.prediction = np.mean(y_right)\n",
    "\n",
    "        self.grow_tree(node.left, x_left, y_left)\n",
    "        self.grow_tree(node.right, x_right, y_right)\n",
    "\n",
    "    def fit(self, X, y):\n",
    "        \"\"\"\n",
    "        Fit the Decision Tree Regressor.\n",
    "            \n",
    "        Parameters\n",
    "        ----------\n",
    "        X : ndarray, shape (n_samples, n_features)\n",
    "            The input samples.\n",
    "        y : ndarray, shape (n_samples,) or (n_samples, n_outputs)\n",
    "            The target values.\n",
    "        Returns\n",
    "        -------\n",
    "        self : object\n",
    "            Returns self.\n",
    "        \"\"\"\n",
    "        X, y = check_X_y(X, y, accept_sparse=False)\n",
    "        self.is_fitted_ = True\n",
    "        self.n_features_in_ = X.shape[1]\n",
    "        # Initialize the tree (root node)\n",
    "        self.tree_ = Node()                             \n",
    "        self.tree_.depth = 0\n",
    "        self.tree_.prediction = np.mean(y)\n",
    "        \n",
    "        # Grow the tree\n",
    "        self.grow_tree(self.tree_, X, y)\n",
    "        return self        \n",
    "    \n",
    "    def get_prediction(self, node, x):\n",
    "        \"\"\"\n",
    "        Get prediction for an object `x`\n",
    "            - Return prediction of the `node` if it is terminal\n",
    "            - Otherwise, recursively call the function to get \n",
    "            predictions of the proper child\n",
    "        \n",
    "        Parameters\n",
    "        ----------\n",
    "        node : Node() object\n",
    "            Current node of the decision tree.\n",
    "        x : ndarray, shape (n_features,)\n",
    "            Array of feature values of one object.\n",
    "        Returns\n",
    "        -------\n",
    "        y_pred : float\n",
    "            Prediction for an object x\n",
    "        \"\"\"\n",
    "        if node.is_terminal:\n",
    "            return node.prediction\n",
    "        if x[node.column] > node.threshold:\n",
    "            y_pred = self.get_prediction(node.right, x)\n",
    "        else:\n",
    "            y_pred = self.get_prediction(node.left, x)\n",
    "        return y_pred\n",
    "    \n",
    "    def predict(self, X):\n",
    "        \"\"\" \n",
    "        Get prediction for each object in X\n",
    "        \n",
    "        Parameters\n",
    "        ----------\n",
    "        X : ndarray, shape (n_samples, n_features)\n",
    "            The input samples.\n",
    "        Returns\n",
    "        -------\n",
    "        y : ndarray, shape (n_samples,)\n",
    "            Returns predictions.\n",
    "        \"\"\"\n",
    "        # Check input and that `fit` had been called\n",
    "        X = check_array(X, accept_sparse=False)\n",
    "        check_is_fitted(self, 'is_fitted_')\n",
    "        \n",
    "        # Get predictions\n",
    "        y_predicted = []\n",
    "        for x in X:\n",
    "            y_curr = self.get_prediction(self.tree_, x)\n",
    "            y_predicted.append(y_curr)\n",
    "        return np.array(y_predicted)"
   ]
  },
  {
   "cell_type": "code",
   "execution_count": 7,
   "metadata": {},
   "outputs": [],
   "source": [
    "# check yourself\n",
    "from sklearn.utils.estimator_checks import check_estimator\n",
    "\n",
    "check_estimator(MyDecisionTreeRegressor())"
   ]
  },
  {
   "cell_type": "markdown",
   "metadata": {},
   "source": [
    "### Task 4 <a id=\"task4\"></a>  (0.5 points)\n",
    "\n",
    "Load boston dataset and split it on the train ($75\\%$) and test ($25\\%$). Fit Decision Tree of depth 1 and make the following plot:\n",
    "\n",
    "- Scatter plot of the traning points (selected for split feature on the x-axis, target variable on the y-axis)\n",
    "- Fitted model "
   ]
  },
  {
   "cell_type": "code",
   "execution_count": 8,
   "metadata": {},
   "outputs": [
    {
     "name": "stdout",
     "output_type": "stream",
     "text": [
      "Best split column number -  5\n",
      "Best threshold -  6.794\n",
      "Left node prediction 19.696091205211726\n",
      "Right node prediction 35.93333333333333\n"
     ]
    },
    {
     "data": {
      "text/plain": "Text(0.5, 1.0, 'Decision tree (max_depth=1)')"
     },
     "execution_count": 8,
     "metadata": {},
     "output_type": "execute_result"
    },
    {
     "data": {
      "text/plain": "<Figure size 1100x500 with 1 Axes>",
      "image/png": "[encoded data removed]"
     },
     "metadata": {},
     "output_type": "display_data"
    }
   ],
   "source": [
    "from sklearn.model_selection import train_test_split, GridSearchCV\n",
    "from sklearn.datasets import load_boston\n",
    "\n",
    "boston_dataset = load_boston()\n",
    "X = boston_dataset.data\n",
    "y = boston_dataset.target\n",
    "X_train, X_test, y_train, y_test = train_test_split(X, y, test_size=0.25, random_state=11)\n",
    "decision_tree = MyDecisionTreeRegressor(max_depth=1)\n",
    "decision_tree.fit(X_train, y_train)\n",
    "y_predicted = decision_tree.predict(X_test)\n",
    "x_column = X_train[:,decision_tree.tree_.column]\n",
    "\n",
    "left_prediction = decision_tree.tree_.left.prediction\n",
    "right_prediction = decision_tree.tree_.right.prediction\n",
    "best_threshold = decision_tree.tree_.threshold\n",
    "\n",
    "print('Best split column number - ', decision_tree.tree_.column)\n",
    "print('Best threshold - ', best_threshold)\n",
    "print('Left node prediction', left_prediction)\n",
    "print('Right node prediction', right_prediction)\n",
    "\n",
    "plt.scatter(x_column, y_train)\n",
    "plt.xlabel('Best split column values')\n",
    "plt.ylabel('Target values')\n",
    "plt.hlines(left_prediction, xmin=x_column.min(), xmax=best_threshold, color='purple', label='Left node prediction')\n",
    "plt.hlines(right_prediction, xmin=best_threshold, xmax=x_column.max(), linewidth=2, color='green', label='Right node prediction')\n",
    "plt.axline((best_threshold, 0), (best_threshold, y_train.max()), linewidth=2, color='r', label='Best threshold')\n",
    "plt.legend()\n",
    "plt.title('Decision tree (max_depth=1)')"
   ]
  },
  {
   "cell_type": "markdown",
   "metadata": {},
   "source": [
    "### Task 5 <a id=\"task5\"></a>  (0.5 points)\n",
    "\n",
    "Keep working with boston dataset. \n",
    "- Use `GridSearchCV` to find the best hyperparameters among [`max_depth`, `min_samples_leaf`] on 5-Fold cross-validation\n",
    "- Train the model with the best set of hyperparameters on the whole train dataset. \n",
    "- Report `MAE` on test dataset and hyperparameters of the best estimator. "
   ]
  },
  {
   "cell_type": "code",
   "execution_count": 9,
   "metadata": {},
   "outputs": [
    {
     "name": "stdout",
     "output_type": "stream",
     "text": [
      "{'max_depth': 5, 'min_samples_leaf': 5}\n",
      "MAE score:  3.0551652382894425\n"
     ]
    }
   ],
   "source": [
    "from sklearn.metrics import mean_absolute_error\n",
    "\n",
    "clf = MyDecisionTreeRegressor()\n",
    "parameters = {'max_depth':[1, 3, 5, 7, 9],\n",
    "              'min_samples_leaf':[1, 5, 10]}\n",
    "\n",
    "decision_model = GridSearchCV(clf,\n",
    "                  parameters,\n",
    "                  scoring='neg_mean_absolute_error',\n",
    "                  cv=5)\n",
    "decision_model.fit(X_train, y_train)\n",
    "print(decision_model.best_params_)\n",
    "pred = decision_model.predict(X_test)\n",
    "print('MAE score: ', mean_absolute_error(y_test, pred))"
   ]
  },
  {
   "cell_type": "markdown",
   "metadata": {},
   "source": [
    "### Task 6 <a id=\"task6\"></a>  (2 points)\n",
    "\n",
    "Recall definition of bias and variance:\n",
    "$$\n",
    "\\text{Bias}^2 = \\mathbb{E}_{p(x, y)} \\left[  (f(x) - \\mathbb{E}_{\\mathbb{X}}a_{\\mathbb{X}}(x))^2 \\right] \\\\\n",
    "\\text{Variance} = \\mathbb{E}_{p(x, y)} \\left[  \\mathbb{V}_{\\mathbb{X}}( a_{\\mathbb{X}}(x))  \\right]\n",
    "$$\n",
    "\n",
    "We wil now use use the following algorithm to estimate bias and variance:\n",
    "\n",
    "1. Use bootsrap to create `n_iter` samples from the original dataset: $X_1, \\dots, X_{n_iter}$\n",
    "2. For each bootstrapped sample define out-of-bag (OOB) sample $Z_1, \\dots, Z_{n_iter}$, which contain all the observations, which did not appear in the corresponding boostraped sample\n",
    "3. Fit the model on $X_i$s and compute predictions on $Z_i$s\n",
    "4. For a given *object* $n$:\n",
    "     - bias^2: squared difference between true value $y_n$ and average prediction (average over the algorithms, for which $n$ was in OOB)\n",
    "     - variance: variance of the prediction (predictions of the algorithms, for which $n$ was in OOB)\n",
    "5. Average bias^2 and variance over all the points\n",
    "    \n",
    "**Implement `get_bias_variance` function, using the algorithm above**\n",
    "\n",
    "*Note:*  You can only use 1 loop (for bootsrap iterations). All other operations should be vectorized. "
   ]
  },
  {
   "cell_type": "markdown",
   "source": [
    "Алгоритм:\n",
    "n_iter раз случайным образом формируем выборку размера, равного размеру\n",
    "первоначальной выборки, состоящую из элементов первоначальной выборки, которые\n",
    "могут повторяться, формируем oob - все элементы, которые не вошли в полученную\n",
    "случайную выборку. Обучаем модель на случайной выборке, делаем предсказание.\n",
    "Полученное предсказание сохраняем в массив, где строка- это номер итерации,\n",
    "а столбец - это индекс элемента из oob. Далее считаем bias и variance по формулам."
   ],
   "metadata": {
    "collapsed": false,
    "pycharm": {
     "name": "#%% md\n"
    }
   }
  },
  {
   "cell_type": "code",
   "execution_count": 10,
   "metadata": {},
   "outputs": [],
   "source": [
    "def get_bias_variance(estimator, x, y, n_iter):\n",
    "    \"\"\" \n",
    "    Calculate bias and variance of the `estimator`. \n",
    "    Using a given dataset and bootstrap with `n_iter` samples. \n",
    "\n",
    "    Parameters\n",
    "    ----------\n",
    "    x : ndarray, shape (n_samples, n_features)\n",
    "        The input samples.\n",
    "    y : ndarray, shape (n_samples, n_features)\n",
    "        The input samples.\n",
    "    n_iter: int\n",
    "        Number of samples in \n",
    "    Returns\n",
    "    -------\n",
    "    bias2 : float, \n",
    "        Estiamted squared bias\n",
    "    variance : float, \n",
    "        Estiamted variance\n",
    "    \"\"\"\n",
    "\n",
    "    predictions_for_indexes = np.empty(shape=(n_iter, x.shape[0]))\n",
    "    predictions_for_indexes.fill(np.nan)\n",
    "    for i in range(n_iter):\n",
    "        np.random.seed(i)\n",
    "        indexes = np.arange(x.shape[0]).tolist()\n",
    "        random_indexes = np.random.choice(indexes, len(indexes))\n",
    "        oob_index = list(set(indexes) - set(random_indexes))\n",
    "        x_sample = x[random_indexes, :]\n",
    "        y_sample = y[random_indexes]\n",
    "        estimator.fit(x_sample, y_sample)\n",
    "        x_pred_sample = x[oob_index, :]\n",
    "        prediction = estimator.predict(x_pred_sample)\n",
    "        predictions_for_indexes[i, oob_index] = prediction\n",
    "\n",
    "    mean_bias = np.nanmean(np.square(y - np.nanmean(predictions_for_indexes, axis=0)))\n",
    "    mean_variance = np.nanmean(np.nanmean(np.square(predictions_for_indexes - np.nanmean(predictions_for_indexes, axis=0)), axis=0))\n",
    "    return mean_bias, mean_variance"
   ]
  },
  {
   "cell_type": "code",
   "execution_count": 11,
   "metadata": {},
   "outputs": [
    {
     "data": {
      "text/plain": "(16.637207014905588, 10.543418248364558)"
     },
     "execution_count": 11,
     "metadata": {},
     "output_type": "execute_result"
    }
   ],
   "source": [
    "# Test\n",
    "estimator = MyDecisionTreeRegressor(max_depth=5, min_samples_split=5)\n",
    "\n",
    "get_bias_variance(estimator, X_train, y_train, 10)"
   ]
  },
  {
   "cell_type": "markdown",
   "metadata": {},
   "source": [
    "### Task 7 <a id=\"task7\"></a>  (0.5 points)\n",
    "\n",
    "Compute bias and variance for the trees with different min_samples_split. Plot how bias and variance change as min_samples_split increases. \n",
    "\n",
    "Comment on what you observe, how does your result correspond to theory?"
   ]
  },
  {
   "cell_type": "code",
   "execution_count": 12,
   "metadata": {},
   "outputs": [
    {
     "data": {
      "text/plain": "Text(0.5, 1.0, 'Bias and variance dependence on min samples split values')"
     },
     "execution_count": 12,
     "metadata": {},
     "output_type": "execute_result"
    },
    {
     "data": {
      "text/plain": "<Figure size 1100x500 with 1 Axes>",
      "image/png": "[encoded data removed]"
     },
     "metadata": {},
     "output_type": "display_data"
    }
   ],
   "source": [
    "biases = []\n",
    "variances = []\n",
    "min_samples_splits = []\n",
    "for i in range(1, 100, 10):\n",
    "    decision_tree = MyDecisionTreeRegressor(max_depth=8, min_samples_split=i)\n",
    "    bias, variance = get_bias_variance(decision_tree, X_train, y_train, 20)\n",
    "    biases.append(bias)\n",
    "    variances.append(variance)\n",
    "    min_samples_splits.append(i)\n",
    "plt.plot(min_samples_splits, biases, label='bias')\n",
    "plt.plot(min_samples_splits, variances, label='variance')\n",
    "plt.legend()\n",
    "plt.xlabel('Min samples split values')\n",
    "plt.ylabel('Bias and variance values')\n",
    "plt.title('Bias and variance dependence on min samples split values')"
   ]
  },
  {
   "cell_type": "markdown",
   "metadata": {},
   "source": [
    "min_samples_split - это минимальное количество элементов, необходимое для разделения узла.\n",
    "Чем больше данный параметр, тем меньше дерево разрастается, тем меньше модель обучается.\n",
    "На графике видны следующие тенденции:bias возрастает, variance постепенно уменьшается,\n",
    "что свидетельствует о том, что модель становится меньше склонна к переобучению."
   ]
  },
  {
   "cell_type": "markdown",
   "metadata": {},
   "source": [
    "### Task 8 <a id=\"task8\"></a>  (0.5 points)\n",
    "\n",
    "Let's try to reduce variance with bagging. Use `sklearn.ensemble.BaggingRegressor` to get an ensemble and compute its bias and variance. \n",
    "\n",
    "Answer the following questions:\n",
    " - How bagging should affect bias and variance in theory?\n",
    " - How bias and variance change (if they change) compared to an individual tree in you experiments? \n",
    " - Do your results align with the theory? Why?"
   ]
  },
  {
   "cell_type": "code",
   "execution_count": 13,
   "metadata": {},
   "outputs": [
    {
     "name": "stdout",
     "output_type": "stream",
     "text": [
      "Bias -  13.377708096571897\n",
      "Variance -  1.9858010288566668\n"
     ]
    }
   ],
   "source": [
    "from sklearn.ensemble import BaggingRegressor\n",
    "\n",
    "bagging_tree = BaggingRegressor(MyDecisionTreeRegressor(max_depth=8, min_samples_split=15), n_estimators=10)\n",
    "bias, variance = get_bias_variance(bagging_tree, X_train, y_train, 10)\n",
    "print('Bias - ', bias)\n",
    "print('Variance - ', variance)"
   ]
  },
  {
   "cell_type": "markdown",
   "metadata": {},
   "source": [
    "1) Бэггинг никак не влияет на смещение и уменьшает дисперсию.\n",
    "2) Судя по полученным показателям, Bias для одного дерева не существенно изменяется\n",
    "при бэггинге, в то время как Variance после бэггинга становится значительно меньше\n",
    "3) Полученные результаты соответствуют предположениям, основанным на теоретических\n",
    "знаниях, уменьшение дисперсии происходит за счет того, что мы обучаемся на нескольких выборках\n",
    "с рандомным набором элементов из первоначальной выборки (с возвращением), получаем на выходе\n",
    "несколько обученных моделей, а затем усредняем их предсказания. чтобы получить итоговый результат."
   ]
  },
  {
   "cell_type": "markdown",
   "metadata": {},
   "source": [
    "# Part 2. More Ensembles"
   ]
  },
  {
   "cell_type": "markdown",
   "metadata": {},
   "source": [
    "In this part we will be working with [Thyroid Disease Data Set](https://archive.ics.uci.edu/ml/datasets/thyroid+disease) to solve a classification task. "
   ]
  },
  {
   "cell_type": "code",
   "execution_count": 4,
   "metadata": {},
   "outputs": [
    {
     "data": {
      "text/plain": "    age sex on_thyroxine query_on_thyroxine on_antithyroid_medication sick  \\\n0  41.0   F            f                  f                         f    f   \n1  23.0   F            f                  f                         f    f   \n2  46.0   M            f                  f                         f    f   \n3  70.0   F            t                  f                         f    f   \n4  70.0   F            f                  f                         f    f   \n\n  pregnant thyroid_surgery I131_treatment query_hypothyroid  ...   T3  \\\n0        f               f              f                 f  ...  2.5   \n1        f               f              f                 f  ...  2.0   \n2        f               f              f                 f  ...  NaN   \n3        f               f              f                 f  ...  1.9   \n4        f               f              f                 f  ...  1.2   \n\n  TT4_measured    TT4 T4U_measured   T4U FTI_measured    FTI  TBG_measured  \\\n0            t  125.0            t  1.14            t  109.0             f   \n1            t  102.0            f   NaN            f    NaN             f   \n2            t  109.0            t  0.91            t  120.0             f   \n3            t  175.0            f   NaN            f    NaN             f   \n4            t   61.0            t  0.87            t   70.0             f   \n\n  TBG  referral_source  \n0 NaN             SVHC  \n1 NaN            other  \n2 NaN            other  \n3 NaN            other  \n4 NaN              SVI  \n\n[5 rows x 29 columns]",
      "text/html": "<div>\n<style scoped>\n    .dataframe tbody tr th:only-of-type {\n        vertical-align: middle;\n    }\n\n    .dataframe tbody tr th {\n        vertical-align: top;\n    }\n\n    .dataframe thead th {\n        text-align: right;\n    }\n</style>\n<table border=\"1\" class=\"dataframe\">\n  <thead>\n    <tr style=\"text-align: right;\">\n      <th></th>\n      <th>age</th>\n      <th>sex</th>\n      <th>on_thyroxine</th>\n      <th>query_on_thyroxine</th>\n      <th>on_antithyroid_medication</th>\n      <th>sick</th>\n      <th>pregnant</th>\n      <th>thyroid_surgery</th>\n      <th>I131_treatment</th>\n      <th>query_hypothyroid</th>\n      <th>...</th>\n      <th>T3</th>\n      <th>TT4_measured</th>\n      <th>TT4</th>\n      <th>T4U_measured</th>\n      <th>T4U</th>\n      <th>FTI_measured</th>\n      <th>FTI</th>\n      <th>TBG_measured</th>\n      <th>TBG</th>\n      <th>referral_source</th>\n    </tr>\n  </thead>\n  <tbody>\n    <tr>\n      <th>0</th>\n      <td>41.0</td>\n      <td>F</td>\n      <td>f</td>\n      <td>f</td>\n      <td>f</td>\n      <td>f</td>\n      <td>f</td>\n      <td>f</td>\n      <td>f</td>\n      <td>f</td>\n      <td>...</td>\n      <td>2.5</td>\n      <td>t</td>\n      <td>125.0</td>\n      <td>t</td>\n      <td>1.14</td>\n      <td>t</td>\n      <td>109.0</td>\n      <td>f</td>\n      <td>NaN</td>\n      <td>SVHC</td>\n    </tr>\n    <tr>\n      <th>1</th>\n      <td>23.0</td>\n      <td>F</td>\n      <td>f</td>\n      <td>f</td>\n      <td>f</td>\n      <td>f</td>\n      <td>f</td>\n      <td>f</td>\n      <td>f</td>\n      <td>f</td>\n      <td>...</td>\n      <td>2.0</td>\n      <td>t</td>\n      <td>102.0</td>\n      <td>f</td>\n      <td>NaN</td>\n      <td>f</td>\n      <td>NaN</td>\n      <td>f</td>\n      <td>NaN</td>\n      <td>other</td>\n    </tr>\n    <tr>\n      <th>2</th>\n      <td>46.0</td>\n      <td>M</td>\n      <td>f</td>\n      <td>f</td>\n      <td>f</td>\n      <td>f</td>\n      <td>f</td>\n      <td>f</td>\n      <td>f</td>\n      <td>f</td>\n      <td>...</td>\n      <td>NaN</td>\n      <td>t</td>\n      <td>109.0</td>\n      <td>t</td>\n      <td>0.91</td>\n      <td>t</td>\n      <td>120.0</td>\n      <td>f</td>\n      <td>NaN</td>\n      <td>other</td>\n    </tr>\n    <tr>\n      <th>3</th>\n      <td>70.0</td>\n      <td>F</td>\n      <td>t</td>\n      <td>f</td>\n      <td>f</td>\n      <td>f</td>\n      <td>f</td>\n      <td>f</td>\n      <td>f</td>\n      <td>f</td>\n      <td>...</td>\n      <td>1.9</td>\n      <td>t</td>\n      <td>175.0</td>\n      <td>f</td>\n      <td>NaN</td>\n      <td>f</td>\n      <td>NaN</td>\n      <td>f</td>\n      <td>NaN</td>\n      <td>other</td>\n    </tr>\n    <tr>\n      <th>4</th>\n      <td>70.0</td>\n      <td>F</td>\n      <td>f</td>\n      <td>f</td>\n      <td>f</td>\n      <td>f</td>\n      <td>f</td>\n      <td>f</td>\n      <td>f</td>\n      <td>f</td>\n      <td>...</td>\n      <td>1.2</td>\n      <td>t</td>\n      <td>61.0</td>\n      <td>t</td>\n      <td>0.87</td>\n      <td>t</td>\n      <td>70.0</td>\n      <td>f</td>\n      <td>NaN</td>\n      <td>SVI</td>\n    </tr>\n  </tbody>\n</table>\n<p>5 rows × 29 columns</p>\n</div>"
     },
     "execution_count": 4,
     "metadata": {},
     "output_type": "execute_result"
    }
   ],
   "source": [
    "from sklearn.preprocessing import LabelEncoder\n",
    "\n",
    "df = pd.read_csv('thyroid_disease.csv')\n",
    "\n",
    "le = LabelEncoder()\n",
    "y = le.fit_transform(df['Class'])\n",
    "X = df.drop('Class', axis=1)\n",
    "X.head(5)"
   ]
  },
  {
   "cell_type": "markdown",
   "metadata": {},
   "source": [
    "### Task 1 <a id=\"task2_1\"></a> (1 point)\n",
    "\n",
    "Let's start with data preprocessing. \n",
    "\n",
    "0. Drop columns, which are not usefull (e.g. a lot of missing values). Motivate your choice. \n",
    "1. Split dataset into train and test\n",
    "2. You've probably noticed that we have both categorical and numerical columns. Here is what you need to do with them:\n",
    "    - Categorical: Fill missing values and apply one-hot-encoding\n",
    "    - Numeric: Fill missing values\n",
    "    \n",
    "Use `ColumnTranformer` to define a single transformer for all the columns in the dataset. It takes as input a list of tuples\n",
    "\n",
    "```\n",
    "ColumnTransformer([\n",
    "    ('name1', transform1, column_names1),\n",
    "    ('name2', transform2, column_names2)\n",
    "])\n",
    "```\n",
    "\n",
    "Pay attention to an argument `remainder='passthrough'`. [Here](https://scikit-learn.org/stable/modules/compose.html#column-transformer) you can find some examples of how to use column transformer. \n",
    "    \n",
    "Since we want to apply 2 transformations to categorical feature, it is very convenient to combine them into a `Pipeline`:\n",
    "\n",
    "```\n",
    "double_tranform = make_pipeline(\n",
    "                        transform_1,\n",
    "                        transform_2\n",
    "                        )\n",
    "```\n",
    "\n",
    "P.S. Choose your favourite way to fill missing values. \n",
    "\n",
    "*Hint* Categorical column usually have `dtype = 'object'`. This may help to obtain list of categorical and numerical columns on the dataset. "
   ]
  },
  {
   "cell_type": "code",
   "execution_count": 6,
   "metadata": {},
   "outputs": [
    {
     "name": "stdout",
     "output_type": "stream",
     "text": [
      "Shape -  (3772, 29)\n"
     ]
    },
    {
     "data": {
      "text/plain": "age                             1\nsex                           150\non_thyroxine                    0\nquery_on_thyroxine              0\non_antithyroid_medication       0\nsick                            0\npregnant                        0\nthyroid_surgery                 0\nI131_treatment                  0\nquery_hypothyroid               0\nquery_hyperthyroid              0\nlithium                         0\ngoitre                          0\ntumor                           0\nhypopituitary                   0\npsych                           0\nTSH_measured                    0\nTSH                           369\nT3_measured                     0\nT3                            769\nTT4_measured                    0\nTT4                           231\nT4U_measured                    0\nT4U                           387\nFTI_measured                    0\nFTI                           385\nTBG_measured                    0\nTBG                          3772\nreferral_source                 0\ndtype: int64"
     },
     "execution_count": 6,
     "metadata": {},
     "output_type": "execute_result"
    }
   ],
   "source": [
    "from sklearn.pipeline import make_pipeline\n",
    "from sklearn.compose import ColumnTransformer\n",
    "from sklearn.preprocessing import OneHotEncoder\n",
    "from sklearn.impute import SimpleImputer\n",
    "print('Shape - ', X.shape)\n",
    "X.isna().sum(axis=0)"
   ]
  },
  {
   "cell_type": "markdown",
   "source": [
    "Видно, что колонка TBG содержит только Nan-значения, следовательно, ее необходимо удалить."
   ],
   "metadata": {
    "collapsed": false,
    "pycharm": {
     "name": "#%% md\n"
    }
   }
  },
  {
   "cell_type": "code",
   "execution_count": 16,
   "metadata": {
    "pycharm": {
     "name": "#%%\n"
    }
   },
   "outputs": [
    {
     "data": {
      "text/plain": "age                            1\nsex                          150\non_thyroxine                   0\nquery_on_thyroxine             0\non_antithyroid_medication      0\nsick                           0\npregnant                       0\nthyroid_surgery                0\nI131_treatment                 0\nquery_hypothyroid              0\nquery_hyperthyroid             0\nlithium                        0\ngoitre                         0\ntumor                          0\nhypopituitary                  0\npsych                          0\nTSH_measured                   0\nTSH                          369\nT3_measured                    0\nT3                           769\nTT4_measured                   0\nTT4                          231\nT4U_measured                   0\nT4U                          387\nFTI_measured                   0\nFTI                          385\nTBG_measured                   0\nreferral_source                0\ndtype: int64"
     },
     "execution_count": 16,
     "metadata": {},
     "output_type": "execute_result"
    }
   ],
   "source": [
    "X = X.drop('TBG', axis=1)\n",
    "X.isna().sum(axis=0)"
   ]
  },
  {
   "cell_type": "code",
   "execution_count": 17,
   "metadata": {
    "pycharm": {
     "name": "#%%\n"
    }
   },
   "outputs": [],
   "source": [
    "X_train, X_test, y_train, y_test = train_test_split(X, y,\n",
    "                                                    test_size=0.25, \n",
    "                                                    random_state=42)"
   ]
  },
  {
   "cell_type": "code",
   "execution_count": 18,
   "metadata": {
    "pycharm": {
     "name": "#%%\n"
    }
   },
   "outputs": [],
   "source": [
    "categorical_variables = list(X.dtypes[X.dtypes == \"object\"].index)\n",
    "numerical_variables = list(X.dtypes[X.dtypes == \"float64\"].index)\n",
    "\n",
    "pipeline = make_pipeline(SimpleImputer(strategy='constant'), OneHotEncoder())\n",
    "# define column_transformer \n",
    "column_transformer = ColumnTransformer(transformers=\n",
    "        [('categorical_variables', pipeline, categorical_variables), ('numerical_variables', SimpleImputer(), numerical_variables)])\n",
    "# Transform the data\n",
    "X_train = column_transformer.fit_transform(X_train)\n",
    "X_test = column_transformer.transform(X_test)"
   ]
  },
  {
   "cell_type": "markdown",
   "metadata": {},
   "source": [
    "### Task 2 <a id=\"task2_2\"></a> (0.7 points)\n",
    "\n",
    "Fit and compare 5 different models (use sklearn): Gradient Boosting, Random Forest, Decision Tree, SVM, Logitics Regression\n",
    "    \n",
    "* Choose one classification metric and justify your choice .\n",
    "* Compare the models using score on cross validation. Mind the class balance when choosing the cross validation. (You can read more about different CV strategies [here](https://scikit-learn.org/stable/modules/cross_validation.html#stratified-k-fold))\n",
    "* Which model has the best performance? Which models overfit or underfit?"
   ]
  },
  {
   "cell_type": "code",
   "execution_count": 19,
   "outputs": [
    {
     "data": {
      "text/plain": "negative    3541\nsick         231\nName: Class, dtype: int64"
     },
     "execution_count": 19,
     "metadata": {},
     "output_type": "execute_result"
    }
   ],
   "source": [
    "df['Class'].value_counts()"
   ],
   "metadata": {
    "collapsed": false,
    "pycharm": {
     "name": "#%%\n"
    }
   }
  },
  {
   "cell_type": "code",
   "execution_count": 20,
   "outputs": [
    {
     "name": "stdout",
     "output_type": "stream",
     "text": [
      "Classes are not balanced\n"
     ]
    }
   ],
   "source": [
    "if  df['Class'].value_counts()['negative'] == df['Class'].value_counts()['sick']:\n",
    "    print('Classes are balanced')\n",
    "else:\n",
    "    print('Classes are not balanced')"
   ],
   "metadata": {
    "collapsed": false,
    "pycharm": {
     "name": "#%%\n"
    }
   }
  },
  {
   "cell_type": "code",
   "execution_count": 21,
   "metadata": {},
   "outputs": [],
   "source": [
    "from sklearn.model_selection import cross_validate, StratifiedKFold\n",
    "from sklearn.linear_model import LogisticRegression\n",
    "from sklearn.svm import SVC\n",
    "from sklearn.tree import DecisionTreeClassifier\n",
    "from sklearn.ensemble import GradientBoostingClassifier, RandomForestClassifier"
   ]
  },
  {
   "cell_type": "code",
   "execution_count": 37,
   "outputs": [
    {
     "name": "stdout",
     "output_type": "stream",
     "text": [
      "Gradient boosting train score 0.9951412750657413\n",
      "Gradient boosting test score 0.8795891690009338\n"
     ]
    }
   ],
   "source": [
    "gradient_boosting = GradientBoostingClassifier()\n",
    "cv_gradient_boosting = \\\n",
    "    cross_validate(gradient_boosting, X_train, y_train, scoring=\"f1\", cv=StratifiedKFold(n_splits=5), return_train_score=True)\n",
    "print('Gradient boosting train score', cv_gradient_boosting[\"train_score\"].mean())\n",
    "print('Gradient boosting test score', cv_gradient_boosting[\"test_score\"].mean())"
   ],
   "metadata": {
    "collapsed": false,
    "pycharm": {
     "name": "#%%\n"
    }
   }
  },
  {
   "cell_type": "code",
   "execution_count": 23,
   "outputs": [
    {
     "name": "stdout",
     "output_type": "stream",
     "text": [
      "Random forest train score 1.0\n",
      "Random forest test score 0.8383723863201477\n"
     ]
    }
   ],
   "source": [
    "random_forest = RandomForestClassifier()\n",
    "cv_random_forest = cross_validate(random_forest, X_train, y_train, scoring=\"f1\", cv=StratifiedKFold(n_splits=5), return_train_score=True)\n",
    "print('Random forest train score', cv_random_forest[\"train_score\"].mean())\n",
    "print('Random forest test score', cv_random_forest[\"test_score\"].mean())"
   ],
   "metadata": {
    "collapsed": false,
    "pycharm": {
     "name": "#%%\n"
    }
   }
  },
  {
   "cell_type": "code",
   "execution_count": 24,
   "outputs": [
    {
     "name": "stdout",
     "output_type": "stream",
     "text": [
      "Decision tree train score 0.9530432668789173\n",
      "Decision tree test score 0.8831865943133549\n"
     ]
    }
   ],
   "source": [
    "decision_tree = DecisionTreeClassifier(max_depth=8, min_samples_split=15)\n",
    "cv_decision_tree = cross_validate(decision_tree, X_train, y_train, scoring=\"f1\", cv=StratifiedKFold(n_splits=5), return_train_score=True)\n",
    "print('Decision tree train score', cv_decision_tree[\"train_score\"].mean())\n",
    "print('Decision tree test score', cv_decision_tree[\"test_score\"].mean())"
   ],
   "metadata": {
    "collapsed": false,
    "pycharm": {
     "name": "#%%\n"
    }
   }
  },
  {
   "cell_type": "code",
   "execution_count": 25,
   "outputs": [
    {
     "name": "stdout",
     "output_type": "stream",
     "text": [
      "SVM train score 0.17469000036151278\n",
      "SVM test score 0.07716446533236096\n"
     ]
    }
   ],
   "source": [
    "svm = SVC(kernel=\"poly\", degree=15)\n",
    "cv_svc = cross_validate(svm, X_train, y_train, scoring=\"f1\", cv=StratifiedKFold(n_splits=5), return_train_score=True)\n",
    "print('SVM train score', cv_svc[\"train_score\"].mean())\n",
    "print('SVM test score', cv_svc[\"test_score\"].mean())"
   ],
   "metadata": {
    "collapsed": false,
    "pycharm": {
     "name": "#%%\n"
    }
   }
  },
  {
   "cell_type": "code",
   "execution_count": 26,
   "outputs": [
    {
     "name": "stdout",
     "output_type": "stream",
     "text": [
      "Logistic regression train score 0.7068668052516875\n",
      "Logistic regression test score 0.6617738491065877\n"
     ]
    }
   ],
   "source": [
    "logistic_regression = LogisticRegression()\n",
    "cv_logistic_regression = cross_validate(logistic_regression, X_train, y_train, scoring=\"f1\", cv=StratifiedKFold(n_splits=5), return_train_score=True)\n",
    "print('Logistic regression train score', cv_logistic_regression[\"train_score\"].mean())\n",
    "print('Logistic regression test score', cv_logistic_regression[\"test_score\"].mean())"
   ],
   "metadata": {
    "collapsed": false,
    "pycharm": {
     "name": "#%%\n"
    }
   }
  },
  {
   "cell_type": "markdown",
   "metadata": {},
   "source": [
    "1) Так как классы сильно не сбалансированны необходимо выбрать такие\n",
    "метрики, которые лучше всего подходят для оценки работы модели, обученной\n",
    "на несбалансированных данных. Метрика Accuracy бесполезна в случае с несба-\n",
    "лансированными классами, поэтому лучше всего использовать метрику f1-score,\n",
    "которая отражает среднее гармоническое между метриками precision и recall.\n",
    "2) В качестве CV стратегии лучше всего использовать StratfiedKFold, так как\n",
    "при таком подходе при разделении на несколько выборок в каждой выборке сохраняется\n",
    "процентное соотношение классов\n",
    "3) Лучшие результаты показала модель Decision tree, модель SVM недообучена и не\n",
    "способна решать поставленную задачу. Модель Random Forest на тренировочных данных\n",
    "показала слишком хороший результат, что может свидетельствовать о ее переобученности."
   ]
  },
  {
   "cell_type": "markdown",
   "metadata": {},
   "source": [
    "### Task 3 <a id=\"task2_3\"></a> (0.5 points)\n",
    "\n",
    "More Gradient Boosting. You will have to implement one of the three popular boosting implementations (xgboost, lightgbm, catboost). Select hyperparameters (number of trees, learning rate, depth) on cross-validation and compare with the methods from the previous task. \n",
    "\n",
    "To get method that you have to implement, run cell below and input your name in Russian (for example, if you input Андрей, you will see that user with this name should implement xgboost)"
   ]
  },
  {
   "cell_type": "code",
   "execution_count": 27,
   "metadata": {},
   "outputs": [
    {
     "name": "stdout",
     "output_type": "stream",
     "text": [
      "Реализуйте catboost\n"
     ]
    }
   ],
   "source": [
    "def assign_method():\n",
    "    name = input()\n",
    "    methods = ['xgboost', 'lightgbm', 'catboost']\n",
    "    idx = sum([ord(x) for x in list(name)]) % 3\n",
    "    print('Реализуйте', methods[idx])\n",
    "    \n",
    "assign_method()"
   ]
  },
  {
   "cell_type": "code",
   "execution_count": 28,
   "metadata": {},
   "outputs": [
    {
     "name": "stderr",
     "output_type": "stream",
     "text": [
      "\n",
      "[notice] A new release of pip available: 22.3 -> 22.3.1\n",
      "[notice] To update, run: python.exe -m pip install --upgrade pip\n"
     ]
    },
    {
     "name": "stdout",
     "output_type": "stream",
     "text": [
      "Train score 1.0\n",
      "Test score 0.9108910891089109\n"
     ]
    }
   ],
   "source": [
    "!pip install catboost --quiet\n",
    "from catboost import CatBoostClassifier\n",
    "\n",
    "clf = CatBoostClassifier(logging_level='Silent')\n",
    "parameters = {'num_trees':range(10, 100, 10), 'learning_rate':[0.1, 0.01, 0.001], 'max_depth':range(1, 11)}\n",
    "grid_cat = GridSearchCV(clf, scoring=\"f1\", param_grid=parameters, cv=StratifiedKFold(n_splits=5))\n",
    "grid_cat.fit(X_train, y_train)\n",
    "train_prediction = grid_cat.predict(X_train)\n",
    "print('Train score', f1_score(y_train, train_prediction))\n",
    "test_prediction = grid_cat.predict(X_test)\n",
    "print('Test score', f1_score(y_test, test_prediction))"
   ]
  },
  {
   "cell_type": "markdown",
   "metadata": {},
   "source": [
    "Данная реализация бустинга показала наилучшие результаты по сравнению с\n",
    "методами из предыдущих заданий."
   ]
  },
  {
   "cell_type": "markdown",
   "metadata": {},
   "source": [
    "### Task 4 <a id=\"task2_4\"></a> (0.7 points)\n",
    "\n",
    "Now let's train more fancy ensembles:\n",
    "\n",
    "* Bagging with decision trees as base estimators\n",
    "* Bagging with gradient boosting (with large amount of trees, >100) as base estimators\n",
    "* [Voting classifier](https://scikit-learn.org/stable/modules/generated/sklearn.ensemble.VotingClassifier.html#sklearn.ensemble.VotingClassifier) \n",
    "* [Stacking Classifier](https://scikit-learn.org/stable/modules/generated/sklearn.ensemble.StackingClassifier.html#sklearn.ensemble.StackingClassifier) with Logistic Regression as a final model\n",
    "* [Stacking Classifier](https://scikit-learn.org/stable/modules/generated/sklearn.ensemble.StackingClassifier.html#sklearn.ensemble.StackingClassifier) with Gradeint Boosting as a final model\n",
    "\n",
    "\n",
    "If not stated in the task, feel free to tune / choose hyperparameters and base models.\n",
    "\n",
    "Answer the questions:\n",
    "* Which model has the best performance?\n",
    "* Does bagging reduce overfiting of the gradient boosting with large amount of trees? \n",
    "* What is the difference between voting and staking? "
   ]
  },
  {
   "cell_type": "code",
   "execution_count": 29,
   "metadata": {},
   "outputs": [],
   "source": [
    "from sklearn.ensemble import BaggingClassifier, VotingClassifier"
   ]
  },
  {
   "cell_type": "code",
   "execution_count": 30,
   "outputs": [
    {
     "name": "stdout",
     "output_type": "stream",
     "text": [
      "Bagging with tree train score 0.98878115884709\n",
      "Bagging with tree test score 0.8625362872421697\n"
     ]
    }
   ],
   "source": [
    "bagging_with_tree = BaggingClassifier(base_estimator=DecisionTreeClassifier(), n_estimators=10)\n",
    "cv_bagging_with_tree = cross_validate(bagging_with_tree, X_train, y_train, scoring=\"f1\", cv=StratifiedKFold(n_splits=5), return_train_score=True)\n",
    "print('Bagging with tree train score', cv_bagging_with_tree[\"train_score\"].mean())\n",
    "print('Bagging with tree test score', cv_bagging_with_tree[\"test_score\"].mean())"
   ],
   "metadata": {
    "collapsed": false,
    "pycharm": {
     "name": "#%%\n"
    }
   }
  },
  {
   "cell_type": "code",
   "execution_count": 31,
   "outputs": [
    {
     "name": "stdout",
     "output_type": "stream",
     "text": [
      "Bagging with boosting train score 0.9958477177213008\n",
      "Bagging with boosting test score 0.8598558783236416\n"
     ]
    }
   ],
   "source": [
    "bagging_with_boosting = BaggingClassifier(base_estimator=GradientBoostingClassifier(n_estimators=1000))\n",
    "cv_bagging_with_boosting = cross_validate(bagging_with_boosting, X_train, y_train, scoring=\"f1\", cv=StratifiedKFold(n_splits=5), return_train_score=True)\n",
    "print('Bagging with boosting train score', cv_bagging_with_boosting[\"train_score\"].mean())\n",
    "print('Bagging with boosting test score', cv_bagging_with_boosting[\"test_score\"].mean())"
   ],
   "metadata": {
    "collapsed": false,
    "pycharm": {
     "name": "#%%\n"
    }
   }
  },
  {
   "cell_type": "code",
   "execution_count": 32,
   "outputs": [
    {
     "name": "stdout",
     "output_type": "stream",
     "text": [
      "Voting train score 0.753565738730374\n",
      "Voting test score 0.6730537632251441\n"
     ]
    }
   ],
   "source": [
    "estimator_voting = []\n",
    "estimator_voting.append(('LR',\n",
    "                  LogisticRegression()))\n",
    "estimator_voting.append(('DTC', DecisionTreeClassifier()))\n",
    "voting = VotingClassifier(estimators=estimator_voting, voting='hard')\n",
    "cv_voting = cross_validate(voting, X_train, y_train, scoring=\"f1\", cv=StratifiedKFold(n_splits=5), return_train_score=True)\n",
    "print('Voting train score', cv_voting[\"train_score\"].mean())\n",
    "print('Voting test score', cv_voting[\"test_score\"].mean())"
   ],
   "metadata": {
    "collapsed": false,
    "pycharm": {
     "name": "#%%\n"
    }
   }
  },
  {
   "cell_type": "code",
   "execution_count": 33,
   "outputs": [
    {
     "name": "stdout",
     "output_type": "stream",
     "text": [
      "Stacking with logistic regression as final train score 0.9986159169550174\n",
      "Stacking with logistic regression as final test score 0.8824540250882962\n"
     ]
    }
   ],
   "source": [
    "from sklearn.ensemble import StackingClassifier\n",
    "\n",
    "estimator_stacking = []\n",
    "estimator_stacking.append(('GB',\n",
    "                  GradientBoostingClassifier()))\n",
    "estimator_stacking.append(('DTC', DecisionTreeClassifier()))\n",
    "log = LogisticRegression()\n",
    "stacking_log = StackingClassifier(estimators=estimator_stacking, final_estimator=log)\n",
    "cv_stacking_log = cross_validate(stacking_log, X_train, y_train, scoring=\"f1\", cv=StratifiedKFold(n_splits=5), return_train_score=True)\n",
    "print('Stacking with logistic regression as final train score',cv_stacking_log[\"train_score\"].mean())\n",
    "print('Stacking with logistic regression as final test score', cv_stacking_log[\"test_score\"].mean())"
   ],
   "metadata": {
    "collapsed": false,
    "pycharm": {
     "name": "#%%\n"
    }
   }
  },
  {
   "cell_type": "code",
   "execution_count": 34,
   "outputs": [
    {
     "name": "stdout",
     "output_type": "stream",
     "text": [
      "Stacking with gradient boosting as final train score 0.9048009555810517\n",
      "Stacking with gradient boosting as final test score 0.8456464866752945\n"
     ]
    }
   ],
   "source": [
    "estimator_stacking = []\n",
    "estimator_stacking.append(('LR',\n",
    "                  LogisticRegression()))\n",
    "estimator_stacking.append(('DTC', DecisionTreeClassifier()))\n",
    "boosting = GradientBoostingClassifier()\n",
    "stacking_boosting = StackingClassifier(estimators=estimator_stacking, final_estimator=boosting)\n",
    "cv_stacking_boosting = cross_validate(stacking_boosting, X_train, y_train, scoring=\"f1\", cv=StratifiedKFold(n_splits=5), return_train_score=True)\n",
    "print('Stacking with gradient boosting as final train score', cv_stacking_boosting[\"train_score\"].mean())\n",
    "print('Stacking with gradient boosting as final test score', cv_stacking_boosting[\"test_score\"].mean())"
   ],
   "metadata": {
    "collapsed": false,
    "pycharm": {
     "name": "#%%\n"
    }
   }
  },
  {
   "cell_type": "markdown",
   "metadata": {},
   "source": [
    "1) Наилучшие результаты показала модель Stacking с логистической регрессией\n",
    "2) Бэггинг не повлиял на результаты градиентного бустинга, показатели остались\n",
    "примерно на том же уровне\n",
    "3) Voting: обучаем несколько моделей на нашей выборке, делаем предсказания\n",
    "Результат определяется по наибольшему количеству голосов (предсказаний) моделей\n",
    "Stacking: Обучаем несколько разных моделей на тренировочных данных, получаем их предсказания.\n",
    "Предсказания моделей используем в качестве признака для обучения финальной модели.\n"
   ]
  },
  {
   "cell_type": "markdown",
   "metadata": {},
   "source": [
    "### Task 5 <a id=\"task2_5\"></a> (0.1 points)\n",
    "\n",
    "Report the test score for the best model, that you were able to train. "
   ]
  },
  {
   "cell_type": "code",
   "execution_count": 35,
   "metadata": {},
   "outputs": [
    {
     "name": "stdout",
     "output_type": "stream",
     "text": [
      "Test score 0.8775510204081632\n"
     ]
    }
   ],
   "source": [
    "estimator_stacking = []\n",
    "estimator_stacking.append(('GB',\n",
    "                  GradientBoostingClassifier()))\n",
    "estimator_stacking.append(('DTC', DecisionTreeClassifier()))\n",
    "log = LogisticRegression()\n",
    "stacking_log = StackingClassifier(estimators=estimator_stacking, final_estimator=log)\n",
    "stacking_log.fit(X_train, y_train)\n",
    "y_prediction = stacking_log.predict(X_test)\n",
    "print('Test score', f1_score(y_test, y_prediction))"
   ]
  }
 ],
 "metadata": {
  "kernelspec": {
   "display_name": "Python 3 (ipykernel)",
   "language": "python",
   "name": "python3"
  },
  "language_info": {
   "codemirror_mode": {
    "name": "ipython",
    "version": 3
   },
   "file_extension": ".py",
   "mimetype": "text/x-python",
   "name": "python",
   "nbconvert_exporter": "python",
   "pygments_lexer": "ipython3",
   "version": "3.9.5"
  }
 },
 "nbformat": 4,
 "nbformat_minor": 4
}